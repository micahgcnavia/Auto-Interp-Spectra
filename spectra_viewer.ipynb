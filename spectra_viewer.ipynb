{
 "cells": [
  {
   "cell_type": "code",
   "execution_count": 1,
   "metadata": {},
   "outputs": [],
   "source": [
    "import pandas as pd\n",
    "import numpy as np\n",
    "import os\n",
    "from bokeh.plotting import figure, show\n",
    "from bokeh.models import CheckboxGroup, CustomJS, ColumnDataSource, RangeSlider\n",
    "from bokeh.layouts import column, row\n",
    "from bokeh.palettes import Category10\n",
    "from bokeh.io import output_notebook"
   ]
  },
  {
   "cell_type": "code",
   "execution_count": 2,
   "metadata": {},
   "outputs": [],
   "source": [
    "from main import *"
   ]
  },
  {
   "cell_type": "code",
   "execution_count": 5,
   "metadata": {},
   "outputs": [],
   "source": [
    "cwd = os.getcwd()"
   ]
  },
  {
   "cell_type": "code",
   "execution_count": 6,
   "metadata": {},
   "outputs": [],
   "source": [
    "wav_ref, _ = np.loadtxt(cwd+'/database/lte050-4.5-0.0a+0.0.BT-NextGen.7.dat.txt', unpack=True)"
   ]
  },
  {
   "cell_type": "code",
   "execution_count": 7,
   "metadata": {},
   "outputs": [
    {
     "name": "stdout",
     "output_type": "stream",
     "text": [
      "=========================== Initializing SpectrumInterpolator ===========================\n",
      "\n",
      "Checking spectra availability...\n",
      "All spectra available!\n"
     ]
    },
    {
     "name": "stderr",
     "output_type": "stream",
     "text": [
      "Interpolating teff:   0%|          | 0/4 [00:00<?, ?it/s]"
     ]
    },
    {
     "name": "stderr",
     "output_type": "stream",
     "text": [
      "Interpolating teff: 100%|██████████| 4/4 [00:41<00:00, 10.41s/it]\n",
      "Interpolating logg: 100%|██████████| 2/2 [00:00<00:00, 133.58it/s]\n",
      "Interpolating feh: 100%|██████████| 1/1 [00:00<00:00, 180.32it/s]"
     ]
    },
    {
     "name": "stdout",
     "output_type": "stream",
     "text": [
      "======================================== Finish! ========================================\n",
      "Result:\n",
      "   teff  logg   feh                                               flux\n",
      "0  5180  4.56  0.27  [4.674814073599994e-99, 4.674814073599994e-99,...\n",
      "=========================================================================================\n"
     ]
    },
    {
     "name": "stderr",
     "output_type": "stream",
     "text": [
      "\n"
     ]
    }
   ],
   "source": [
    "spectra, interp_steps = main()"
   ]
  },
  {
   "cell_type": "code",
   "execution_count": 8,
   "metadata": {},
   "outputs": [
    {
     "data": {
      "text/html": [
       "<div>\n",
       "<style scoped>\n",
       "    .dataframe tbody tr th:only-of-type {\n",
       "        vertical-align: middle;\n",
       "    }\n",
       "\n",
       "    .dataframe tbody tr th {\n",
       "        vertical-align: top;\n",
       "    }\n",
       "\n",
       "    .dataframe thead th {\n",
       "        text-align: right;\n",
       "    }\n",
       "</style>\n",
       "<table border=\"1\" class=\"dataframe\">\n",
       "  <thead>\n",
       "    <tr style=\"text-align: right;\">\n",
       "      <th></th>\n",
       "      <th>teff</th>\n",
       "      <th>logg</th>\n",
       "      <th>feh</th>\n",
       "      <th>alpha</th>\n",
       "      <th>path</th>\n",
       "    </tr>\n",
       "  </thead>\n",
       "  <tbody>\n",
       "    <tr>\n",
       "      <th>0</th>\n",
       "      <td>5100</td>\n",
       "      <td>4.5</td>\n",
       "      <td>0.5</td>\n",
       "      <td>0</td>\n",
       "      <td>/database/lte051-4.5+0.5a+0.0.BT-NextGen.7.dat...</td>\n",
       "    </tr>\n",
       "    <tr>\n",
       "      <th>1</th>\n",
       "      <td>5100</td>\n",
       "      <td>4.5</td>\n",
       "      <td>0.0</td>\n",
       "      <td>0</td>\n",
       "      <td>/database/lte051-4.5-0.0a+0.0.BT-NextGen.7.dat...</td>\n",
       "    </tr>\n",
       "    <tr>\n",
       "      <th>2</th>\n",
       "      <td>5100</td>\n",
       "      <td>5.0</td>\n",
       "      <td>0.5</td>\n",
       "      <td>0</td>\n",
       "      <td>/database/lte051-5.0+0.5a+0.0.BT-NextGen.7.dat...</td>\n",
       "    </tr>\n",
       "    <tr>\n",
       "      <th>3</th>\n",
       "      <td>5100</td>\n",
       "      <td>5.0</td>\n",
       "      <td>0.0</td>\n",
       "      <td>0</td>\n",
       "      <td>/database/lte051-5.0-0.0a+0.0.BT-NextGen.7.dat...</td>\n",
       "    </tr>\n",
       "    <tr>\n",
       "      <th>4</th>\n",
       "      <td>5200</td>\n",
       "      <td>4.5</td>\n",
       "      <td>0.5</td>\n",
       "      <td>0</td>\n",
       "      <td>/database/lte052-4.5+0.5a+0.0.BT-NextGen.7.dat...</td>\n",
       "    </tr>\n",
       "    <tr>\n",
       "      <th>5</th>\n",
       "      <td>5200</td>\n",
       "      <td>4.5</td>\n",
       "      <td>0.0</td>\n",
       "      <td>0</td>\n",
       "      <td>/database/lte052-4.5-0.0a+0.0.BT-NextGen.7.dat...</td>\n",
       "    </tr>\n",
       "    <tr>\n",
       "      <th>6</th>\n",
       "      <td>5200</td>\n",
       "      <td>5.0</td>\n",
       "      <td>0.5</td>\n",
       "      <td>0</td>\n",
       "      <td>/database/lte052-5.0+0.5a+0.0.BT-NextGen.7.dat...</td>\n",
       "    </tr>\n",
       "    <tr>\n",
       "      <th>7</th>\n",
       "      <td>5200</td>\n",
       "      <td>5.0</td>\n",
       "      <td>0.0</td>\n",
       "      <td>0</td>\n",
       "      <td>/database/lte052-5.0-0.0a+0.0.BT-NextGen.7.dat...</td>\n",
       "    </tr>\n",
       "  </tbody>\n",
       "</table>\n",
       "</div>"
      ],
      "text/plain": [
       "   teff  logg  feh  alpha                                               path\n",
       "0  5100   4.5  0.5      0  /database/lte051-4.5+0.5a+0.0.BT-NextGen.7.dat...\n",
       "1  5100   4.5  0.0      0  /database/lte051-4.5-0.0a+0.0.BT-NextGen.7.dat...\n",
       "2  5100   5.0  0.5      0  /database/lte051-5.0+0.5a+0.0.BT-NextGen.7.dat...\n",
       "3  5100   5.0  0.0      0  /database/lte051-5.0-0.0a+0.0.BT-NextGen.7.dat...\n",
       "4  5200   4.5  0.5      0  /database/lte052-4.5+0.5a+0.0.BT-NextGen.7.dat...\n",
       "5  5200   4.5  0.0      0  /database/lte052-4.5-0.0a+0.0.BT-NextGen.7.dat...\n",
       "6  5200   5.0  0.5      0  /database/lte052-5.0+0.5a+0.0.BT-NextGen.7.dat...\n",
       "7  5200   5.0  0.0      0  /database/lte052-5.0-0.0a+0.0.BT-NextGen.7.dat..."
      ]
     },
     "execution_count": 8,
     "metadata": {},
     "output_type": "execute_result"
    }
   ],
   "source": [
    "spectra"
   ]
  },
  {
   "cell_type": "code",
   "execution_count": 9,
   "metadata": {},
   "outputs": [
    {
     "data": {
      "text/plain": [
       "[   teff  logg  feh                                               flux\n",
       " 0  5180   4.5  0.0  [3.7089199999999995e-99, 3.7089199999999995e-9...\n",
       " 1  5180   4.5  0.5  [3.709878000000001e-99, 3.709878000000001e-99,...\n",
       " 2  5180   5.0  0.0  [1.175568e-98, 1.175568e-98, 1.175568e-98, 1.1...\n",
       " 3  5180   5.0  0.5  [1.175302e-98, 1.175302e-98, 1.175302e-98, 1.1...,\n",
       "    teff  logg  feh                                               flux\n",
       " 0  5180  4.56  0.0  [4.674531199999993e-99, 4.674531199999993e-99,...\n",
       " 1  5180  4.56  0.5  [4.6750550399999945e-99, 4.6750550399999945e-9...,\n",
       "    teff  logg   feh                                               flux\n",
       " 0  5180  4.56  0.27  [4.674814073599994e-99, 4.674814073599994e-99,...]"
      ]
     },
     "execution_count": 9,
     "metadata": {},
     "output_type": "execute_result"
    }
   ],
   "source": [
    "interp_steps"
   ]
  },
  {
   "cell_type": "code",
   "execution_count": 42,
   "metadata": {},
   "outputs": [
    {
     "name": "stdout",
     "output_type": "stream",
     "text": [
      "Teff = 5180 K\n",
      "log g = 4.5 dex\n",
      "[Fe/H] = 0.0 dex\n",
      "Flux = [3.708920e-99 3.708920e-99 3.708920e-99 ... 9.379384e-06 9.359964e-06\n",
      " 9.340632e-06]\n",
      "\n",
      "Teff = 5180 K\n",
      "log g = 4.5 dex\n",
      "[Fe/H] = 0.5 dex\n",
      "Flux = [3.709878e-99 3.709878e-99 3.709878e-99 ... 9.451786e-06 9.432670e-06\n",
      " 9.413570e-06]\n",
      "\n",
      "Teff = 5180 K\n",
      "log g = 5.0 dex\n",
      "[Fe/H] = 0.0 dex\n",
      "Flux = [1.175568e-98 1.175568e-98 1.175568e-98 ... 9.394950e-06 9.375530e-06\n",
      " 9.356532e-06]\n",
      "\n",
      "Teff = 5180 K\n",
      "log g = 5.0 dex\n",
      "[Fe/H] = 0.5 dex\n",
      "Flux = [1.175302e-98 1.175302e-98 1.175302e-98 ... 9.455016e-06 9.435836e-06\n",
      " 9.416800e-06]\n",
      "\n",
      "Teff = 5180 K\n",
      "log g = 4.56 dex\n",
      "[Fe/H] = 0.0 dex\n",
      "Flux = [4.67453120e-99 4.67453120e-99 4.67453120e-99 ... 9.38125192e-06\n",
      " 9.36183192e-06 9.34254000e-06]\n",
      "\n",
      "Teff = 5180 K\n",
      "log g = 4.56 dex\n",
      "[Fe/H] = 0.5 dex\n",
      "Flux = [4.67505504e-99 4.67505504e-99 4.67505504e-99 ... 9.45217360e-06\n",
      " 9.43304992e-06 9.41395760e-06]\n",
      "\n",
      "Teff = 5180 K\n",
      "log g = 4.56 dex\n",
      "[Fe/H] = 0.27 dex\n",
      "Flux = [4.67481407e-99 4.67481407e-99 4.67481407e-99 ... 9.41954963e-06\n",
      " 9.40028964e-06 9.38110550e-06]\n",
      "\n"
     ]
    }
   ],
   "source": [
    "for i in range(len(interp_steps)):\n",
    "    for _, col in interp_steps[i].iterrows():\n",
    "\n",
    "        print('Teff = {} K\\nlog g = {} dex\\n[Fe/H] = {} dex\\nFlux = {}\\n'.format(col[0], col[1], col[2], col[3]))"
   ]
  },
  {
   "cell_type": "code",
   "execution_count": 45,
   "metadata": {},
   "outputs": [],
   "source": [
    "sources = {'Teff = {} K, log g = {} dex, [Fe/H] = {} dex'.format(col[0], col[1], col[2]): ColumnDataSource(data={'wav': wav_ref, 'flux': col[3]})\\\n",
    "            for i in range(len(interp_steps)) for _, col in interp_steps[i].iterrows()}"
   ]
  },
  {
   "cell_type": "code",
   "execution_count": 46,
   "metadata": {},
   "outputs": [
    {
     "data": {
      "text/plain": [
       "7"
      ]
     },
     "execution_count": 46,
     "metadata": {},
     "output_type": "execute_result"
    }
   ],
   "source": [
    "len(sources)"
   ]
  },
  {
   "cell_type": "code",
   "execution_count": 29,
   "metadata": {},
   "outputs": [
    {
     "data": {
      "text/html": [
       "<style>\n",
       "        .bk-notebook-logo {\n",
       "            display: block;\n",
       "            width: 20px;\n",
       "            height: 20px;\n",
       "            background-image: url(data:image/png;base64,iVBORw0KGgoAAAANSUhEUgAAABQAAAAUCAYAAACNiR0NAAAABHNCSVQICAgIfAhkiAAAAAlwSFlzAAALEgAACxIB0t1+/AAAABx0RVh0U29mdHdhcmUAQWRvYmUgRmlyZXdvcmtzIENTNui8sowAAAOkSURBVDiNjZRtaJVlGMd/1/08zzln5zjP1LWcU9N0NkN8m2CYjpgQYQXqSs0I84OLIC0hkEKoPtiH3gmKoiJDU7QpLgoLjLIQCpEsNJ1vqUOdO7ppbuec5+V+rj4ctwzd8IIbbi6u+8f1539dt3A78eXC7QizUF7gyV1fD1Yqg4JWz84yffhm0qkFqBogB9rM8tZdtwVsPUhWhGcFJngGeWrPzHm5oaMmkfEg1usvLFyc8jLRqDOMru7AyC8saQr7GG7f5fvDeH7Ej8CM66nIF+8yngt6HWaKh7k49Soy9nXurCi1o3qUbS3zWfrYeQDTB/Qj6kX6Ybhw4B+bOYoLKCC9H3Nu/leUTZ1JdRWkkn2ldcCamzrcf47KKXdAJllSlxAOkRgyHsGC/zRday5Qld9DyoM4/q/rUoy/CXh3jzOu3bHUVZeU+DEn8FInkPBFlu3+nW3Nw0mk6vCDiWg8CeJaxEwuHS3+z5RgY+YBR6V1Z1nxSOfoaPa4LASWxxdNp+VWTk7+4vzaou8v8PN+xo+KY2xsw6une2frhw05CTYOmQvsEhjhWjn0bmXPjpE1+kplmmkP3suftwTubK9Vq22qKmrBhpY4jvd5afdRA3wGjFAgcnTK2s4hY0/GPNIb0nErGMCRxWOOX64Z8RAC4oCXdklmEvcL8o0BfkNK4lUg9HTl+oPlQxdNo3Mg4Nv175e/1LDGzZen30MEjRUtmXSfiTVu1kK8W4txyV6BMKlbgk3lMwYCiusNy9fVfvvwMxv8Ynl6vxoByANLTWplvuj/nF9m2+PDtt1eiHPBr1oIfhCChQMBw6Aw0UulqTKZdfVvfG7VcfIqLG9bcldL/+pdWTLxLUy8Qq38heUIjh4XlzZxzQm19lLFlr8vdQ97rjZVOLf8nclzckbcD4wxXMidpX30sFd37Fv/GtwwhzhxGVAprjbg0gCAEeIgwCZyTV2Z1REEW8O4py0wsjeloKoMr6iCY6dP92H6Vw/oTyICIthibxjm/DfN9lVz8IqtqKYLUXfoKVMVQVVJOElGjrnnUt9T9wbgp8AyYKaGlqingHZU/uG2NTZSVqwHQTWkx9hxjkpWDaCg6Ckj5qebgBVbT3V3NNXMSiWSDdGV3hrtzla7J+duwPOToIg42ChPQOQjspnSlp1V+Gjdged7+8UN5CRAV7a5EdFNwCjEaBR27b3W890TE7g24NAP/mMDXRWrGoFPQI9ls/MWO2dWFAar/xcOIImbbpA3zgAAAABJRU5ErkJggg==);\n",
       "        }\n",
       "    </style>\n",
       "    <div>\n",
       "        <a href=\"https://bokeh.org\" target=\"_blank\" class=\"bk-notebook-logo\"></a>\n",
       "        <span id=\"c9930a55-193c-4e99-bb48-5d41b1533bab\">Loading BokehJS ...</span>\n",
       "    </div>\n"
      ]
     },
     "metadata": {},
     "output_type": "display_data"
    },
    {
     "data": {
      "application/javascript": "(function(root) {\n  function now() {\n    return new Date();\n  }\n\n  const force = true;\n\n  if (typeof root._bokeh_onload_callbacks === \"undefined\" || force === true) {\n    root._bokeh_onload_callbacks = [];\n    root._bokeh_is_loading = undefined;\n  }\n\nconst JS_MIME_TYPE = 'application/javascript';\n  const HTML_MIME_TYPE = 'text/html';\n  const EXEC_MIME_TYPE = 'application/vnd.bokehjs_exec.v0+json';\n  const CLASS_NAME = 'output_bokeh rendered_html';\n\n  /**\n   * Render data to the DOM node\n   */\n  function render(props, node) {\n    const script = document.createElement(\"script\");\n    node.appendChild(script);\n  }\n\n  /**\n   * Handle when an output is cleared or removed\n   */\n  function handleClearOutput(event, handle) {\n    const cell = handle.cell;\n\n    const id = cell.output_area._bokeh_element_id;\n    const server_id = cell.output_area._bokeh_server_id;\n    // Clean up Bokeh references\n    if (id != null && id in Bokeh.index) {\n      Bokeh.index[id].model.document.clear();\n      delete Bokeh.index[id];\n    }\n\n    if (server_id !== undefined) {\n      // Clean up Bokeh references\n      const cmd_clean = \"from bokeh.io.state import curstate; print(curstate().uuid_to_server['\" + server_id + \"'].get_sessions()[0].document.roots[0]._id)\";\n      cell.notebook.kernel.execute(cmd_clean, {\n        iopub: {\n          output: function(msg) {\n            const id = msg.content.text.trim();\n            if (id in Bokeh.index) {\n              Bokeh.index[id].model.document.clear();\n              delete Bokeh.index[id];\n            }\n          }\n        }\n      });\n      // Destroy server and session\n      const cmd_destroy = \"import bokeh.io.notebook as ion; ion.destroy_server('\" + server_id + \"')\";\n      cell.notebook.kernel.execute(cmd_destroy);\n    }\n  }\n\n  /**\n   * Handle when a new output is added\n   */\n  function handleAddOutput(event, handle) {\n    const output_area = handle.output_area;\n    const output = handle.output;\n\n    // limit handleAddOutput to display_data with EXEC_MIME_TYPE content only\n    if ((output.output_type != \"display_data\") || (!Object.prototype.hasOwnProperty.call(output.data, EXEC_MIME_TYPE))) {\n      return\n    }\n\n    const toinsert = output_area.element.find(\".\" + CLASS_NAME.split(' ')[0]);\n\n    if (output.metadata[EXEC_MIME_TYPE][\"id\"] !== undefined) {\n      toinsert[toinsert.length - 1].firstChild.textContent = output.data[JS_MIME_TYPE];\n      // store reference to embed id on output_area\n      output_area._bokeh_element_id = output.metadata[EXEC_MIME_TYPE][\"id\"];\n    }\n    if (output.metadata[EXEC_MIME_TYPE][\"server_id\"] !== undefined) {\n      const bk_div = document.createElement(\"div\");\n      bk_div.innerHTML = output.data[HTML_MIME_TYPE];\n      const script_attrs = bk_div.children[0].attributes;\n      for (let i = 0; i < script_attrs.length; i++) {\n        toinsert[toinsert.length - 1].firstChild.setAttribute(script_attrs[i].name, script_attrs[i].value);\n        toinsert[toinsert.length - 1].firstChild.textContent = bk_div.children[0].textContent\n      }\n      // store reference to server id on output_area\n      output_area._bokeh_server_id = output.metadata[EXEC_MIME_TYPE][\"server_id\"];\n    }\n  }\n\n  function register_renderer(events, OutputArea) {\n\n    function append_mime(data, metadata, element) {\n      // create a DOM node to render to\n      const toinsert = this.create_output_subarea(\n        metadata,\n        CLASS_NAME,\n        EXEC_MIME_TYPE\n      );\n      this.keyboard_manager.register_events(toinsert);\n      // Render to node\n      const props = {data: data, metadata: metadata[EXEC_MIME_TYPE]};\n      render(props, toinsert[toinsert.length - 1]);\n      element.append(toinsert);\n      return toinsert\n    }\n\n    /* Handle when an output is cleared or removed */\n    events.on('clear_output.CodeCell', handleClearOutput);\n    events.on('delete.Cell', handleClearOutput);\n\n    /* Handle when a new output is added */\n    events.on('output_added.OutputArea', handleAddOutput);\n\n    /**\n     * Register the mime type and append_mime function with output_area\n     */\n    OutputArea.prototype.register_mime_type(EXEC_MIME_TYPE, append_mime, {\n      /* Is output safe? */\n      safe: true,\n      /* Index of renderer in `output_area.display_order` */\n      index: 0\n    });\n  }\n\n  // register the mime type if in Jupyter Notebook environment and previously unregistered\n  if (root.Jupyter !== undefined) {\n    const events = require('base/js/events');\n    const OutputArea = require('notebook/js/outputarea').OutputArea;\n\n    if (OutputArea.prototype.mime_types().indexOf(EXEC_MIME_TYPE) == -1) {\n      register_renderer(events, OutputArea);\n    }\n  }\n  if (typeof (root._bokeh_timeout) === \"undefined\" || force === true) {\n    root._bokeh_timeout = Date.now() + 5000;\n    root._bokeh_failed_load = false;\n  }\n\n  const NB_LOAD_WARNING = {'data': {'text/html':\n     \"<div style='background-color: #fdd'>\\n\"+\n     \"<p>\\n\"+\n     \"BokehJS does not appear to have successfully loaded. If loading BokehJS from CDN, this \\n\"+\n     \"may be due to a slow or bad network connection. Possible fixes:\\n\"+\n     \"</p>\\n\"+\n     \"<ul>\\n\"+\n     \"<li>re-rerun `output_notebook()` to attempt to load from CDN again, or</li>\\n\"+\n     \"<li>use INLINE resources instead, as so:</li>\\n\"+\n     \"</ul>\\n\"+\n     \"<code>\\n\"+\n     \"from bokeh.resources import INLINE\\n\"+\n     \"output_notebook(resources=INLINE)\\n\"+\n     \"</code>\\n\"+\n     \"</div>\"}};\n\n  function display_loaded() {\n    const el = document.getElementById(\"c9930a55-193c-4e99-bb48-5d41b1533bab\");\n    if (el != null) {\n      el.textContent = \"BokehJS is loading...\";\n    }\n    if (root.Bokeh !== undefined) {\n      if (el != null) {\n        el.textContent = \"BokehJS \" + root.Bokeh.version + \" successfully loaded.\";\n      }\n    } else if (Date.now() < root._bokeh_timeout) {\n      setTimeout(display_loaded, 100)\n    }\n  }\n\n  function run_callbacks() {\n    try {\n      root._bokeh_onload_callbacks.forEach(function(callback) {\n        if (callback != null)\n          callback();\n      });\n    } finally {\n      delete root._bokeh_onload_callbacks\n    }\n    console.debug(\"Bokeh: all callbacks have finished\");\n  }\n\n  function load_libs(css_urls, js_urls, callback) {\n    if (css_urls == null) css_urls = [];\n    if (js_urls == null) js_urls = [];\n\n    root._bokeh_onload_callbacks.push(callback);\n    if (root._bokeh_is_loading > 0) {\n      console.debug(\"Bokeh: BokehJS is being loaded, scheduling callback at\", now());\n      return null;\n    }\n    if (js_urls == null || js_urls.length === 0) {\n      run_callbacks();\n      return null;\n    }\n    console.debug(\"Bokeh: BokehJS not loaded, scheduling load and callback at\", now());\n    root._bokeh_is_loading = css_urls.length + js_urls.length;\n\n    function on_load() {\n      root._bokeh_is_loading--;\n      if (root._bokeh_is_loading === 0) {\n        console.debug(\"Bokeh: all BokehJS libraries/stylesheets loaded\");\n        run_callbacks()\n      }\n    }\n\n    function on_error(url) {\n      console.error(\"failed to load \" + url);\n    }\n\n    for (let i = 0; i < css_urls.length; i++) {\n      const url = css_urls[i];\n      const element = document.createElement(\"link\");\n      element.onload = on_load;\n      element.onerror = on_error.bind(null, url);\n      element.rel = \"stylesheet\";\n      element.type = \"text/css\";\n      element.href = url;\n      console.debug(\"Bokeh: injecting link tag for BokehJS stylesheet: \", url);\n      document.body.appendChild(element);\n    }\n\n    for (let i = 0; i < js_urls.length; i++) {\n      const url = js_urls[i];\n      const element = document.createElement('script');\n      element.onload = on_load;\n      element.onerror = on_error.bind(null, url);\n      element.async = false;\n      element.src = url;\n      console.debug(\"Bokeh: injecting script tag for BokehJS library: \", url);\n      document.head.appendChild(element);\n    }\n  };\n\n  function inject_raw_css(css) {\n    const element = document.createElement(\"style\");\n    element.appendChild(document.createTextNode(css));\n    document.body.appendChild(element);\n  }\n\n  const js_urls = [\"https://cdn.bokeh.org/bokeh/release/bokeh-3.1.1.min.js\", \"https://cdn.bokeh.org/bokeh/release/bokeh-gl-3.1.1.min.js\", \"https://cdn.bokeh.org/bokeh/release/bokeh-widgets-3.1.1.min.js\", \"https://cdn.bokeh.org/bokeh/release/bokeh-tables-3.1.1.min.js\", \"https://cdn.bokeh.org/bokeh/release/bokeh-mathjax-3.1.1.min.js\"];\n  const css_urls = [];\n\n  const inline_js = [    function(Bokeh) {\n      Bokeh.set_log_level(\"info\");\n    },\nfunction(Bokeh) {\n    }\n  ];\n\n  function run_inline_js() {\n    if (root.Bokeh !== undefined || force === true) {\n          for (let i = 0; i < inline_js.length; i++) {\n      inline_js[i].call(root, root.Bokeh);\n    }\nif (force === true) {\n        display_loaded();\n      }} else if (Date.now() < root._bokeh_timeout) {\n      setTimeout(run_inline_js, 100);\n    } else if (!root._bokeh_failed_load) {\n      console.log(\"Bokeh: BokehJS failed to load within specified timeout.\");\n      root._bokeh_failed_load = true;\n    } else if (force !== true) {\n      const cell = $(document.getElementById(\"c9930a55-193c-4e99-bb48-5d41b1533bab\")).parents('.cell').data().cell;\n      cell.output_area.append_execute_result(NB_LOAD_WARNING)\n    }\n  }\n\n  if (root._bokeh_is_loading === 0) {\n    console.debug(\"Bokeh: BokehJS loaded, going straight to plotting\");\n    run_inline_js();\n  } else {\n    load_libs(css_urls, js_urls, function() {\n      console.debug(\"Bokeh: BokehJS plotting callback run at\", now());\n      run_inline_js();\n    });\n  }\n}(window));",
      "application/vnd.bokehjs_load.v0+json": ""
     },
     "metadata": {},
     "output_type": "display_data"
    },
    {
     "data": {
      "text/html": [
       "\n",
       "  <div id=\"f09b18b4-83b2-4e3a-aa6f-7c6cad533413\" data-root-id=\"p3525\" style=\"display: contents;\"></div>\n"
      ]
     },
     "metadata": {},
     "output_type": "display_data"
    },
    {
     "data": {
      "application/javascript": "(function(root) {\n  function embed_document(root) {\n  const docs_json = {\"407608b9-23ca-47a1-a548-08ce0b59cf41\":{\"version\":\"3.1.1\",\"title\":\"Bokeh Application\",\"defs\":[],\"roots\":[{\"type\":\"object\",\"name\":\"Column\",\"id\":\"p3525\",\"attributes\":{\"children\":[{\"type\":\"object\",\"name\":\"Row\",\"id\":\"p3524\",\"attributes\":{\"children\":[{\"type\":\"object\",\"name\":\"RangeSlider\",\"id\":\"p3522\",\"attributes\":{\"js_property_callbacks\":{\"type\":\"map\",\"entries\":[[\"change:value\",[{\"type\":\"object\",\"name\":\"CustomJS\",\"id\":\"p3523\",\"attributes\":{\"args\":{\"type\":\"map\",\"entries\":[[\"x_range\",{\"type\":\"object\",\"name\":\"DataRange1d\",\"id\":\"p3449\",\"attributes\":{\"start\":4000,\"end\":6000}}]]},\"code\":\"\\n    x_range.start = cb_obj.value[0];\\n    x_range.end = cb_obj.value[1];\\n\"}}]]]},\"width\":600,\"title\":\"Wavelength Range (\\u00c5)\",\"value\":[4000,6000],\"start\":3000,\"end\":7000,\"step\":100}}]}},{\"type\":\"object\",\"name\":\"Figure\",\"id\":\"p3448\",\"attributes\":{\"width\":1400,\"x_range\":{\"id\":\"p3449\"},\"y_range\":{\"type\":\"object\",\"name\":\"DataRange1d\",\"id\":\"p3450\"},\"x_scale\":{\"type\":\"object\",\"name\":\"LinearScale\",\"id\":\"p3462\"},\"y_scale\":{\"type\":\"object\",\"name\":\"LinearScale\",\"id\":\"p3464\"},\"title\":{\"type\":\"object\",\"name\":\"Title\",\"id\":\"p3451\",\"attributes\":{\"text\":\"Multi-Spectra Viewer\"}},\"renderers\":[{\"type\":\"object\",\"name\":\"GlyphRenderer\",\"id\":\"p3497\",\"attributes\":{\"data_source\":{\"type\":\"object\",\"name\":\"ColumnDataSource\",\"id\":\"p3439\",\"attributes\":{\"selected\":{\"type\":\"object\",\"name\":\"Selection\",\"id\":\"p3440\",\"attributes\":{\"indices\":[],\"line_indices\":[]}},\"selection_policy\":{\"type\":\"object\",\"name\":\"UnionRenderers\",\"id\":\"p3441\"},\"data\":{\"type\":\"map\",\"entries\":[[\"wav\",{\"type\":\"ndarray\",\"array\":{\"type\":\"bytes\",\"data\":\"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\"},\"shape\":[1000],\"dtype\":\"float64\",\"order\":\"little\"}],[\"flux\",{\"type\":\"ndarray\",\"array\":{\"type\":\"bytes\",\"data\":\"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\"},\"shape\":[1000],\"dtype\":\"float64\",\"order\":\"little\"}]]}}},\"view\":{\"type\":\"object\",\"name\":\"CDSView\",\"id\":\"p3498\",\"attributes\":{\"filter\":{\"type\":\"object\",\"name\":\"AllIndices\",\"id\":\"p3499\"}}},\"glyph\":{\"type\":\"object\",\"name\":\"Line\",\"id\":\"p3494\",\"attributes\":{\"x\":{\"type\":\"field\",\"field\":\"wav\"},\"y\":{\"type\":\"field\",\"field\":\"flux\"},\"line_color\":\"#1f77b4\",\"line_alpha\":0.8,\"line_width\":1.5}},\"nonselection_glyph\":{\"type\":\"object\",\"name\":\"Line\",\"id\":\"p3495\",\"attributes\":{\"x\":{\"type\":\"field\",\"field\":\"wav\"},\"y\":{\"type\":\"field\",\"field\":\"flux\"},\"line_color\":\"#1f77b4\",\"line_alpha\":0.1,\"line_width\":1.5}},\"muted_glyph\":{\"type\":\"object\",\"name\":\"Line\",\"id\":\"p3496\",\"attributes\":{\"x\":{\"type\":\"field\",\"field\":\"wav\"},\"y\":{\"type\":\"field\",\"field\":\"flux\"},\"line_color\":\"#1f77b4\",\"line_alpha\":0.1,\"line_width\":1.5}}}},{\"type\":\"object\",\"name\":\"GlyphRenderer\",\"id\":\"p3508\",\"attributes\":{\"data_source\":{\"type\":\"object\",\"name\":\"ColumnDataSource\",\"id\":\"p3442\",\"attributes\":{\"selected\":{\"type\":\"object\",\"name\":\"Selection\",\"id\":\"p3443\",\"attributes\":{\"indices\":[],\"line_indices\":[]}},\"selection_policy\":{\"type\":\"object\",\"name\":\"UnionRenderers\",\"id\":\"p3444\"},\"data\":{\"type\":\"map\",\"entries\":[[\"wav\",{\"type\":\"ndarray\",\"array\":{\"type\":\"bytes\",\"data\":\"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\"},\"shape\":[1000],\"dtype\":\"float64\",\"order\":\"little\"}],[\"flux\",{\"type\":\"ndarray\",\"array\":{\"type\":\"bytes\",\"data\":\"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\"},\"shape\":[1000],\"dtype\":\"float64\",\"order\":\"little\"}]]}}},\"view\":{\"type\":\"object\",\"name\":\"CDSView\",\"id\":\"p3509\",\"attributes\":{\"filter\":{\"type\":\"object\",\"name\":\"AllIndices\",\"id\":\"p3510\"}}},\"glyph\":{\"type\":\"object\",\"name\":\"Line\",\"id\":\"p3505\",\"attributes\":{\"x\":{\"type\":\"field\",\"field\":\"wav\"},\"y\":{\"type\":\"field\",\"field\":\"flux\"},\"line_color\":\"#ff7f0e\",\"line_alpha\":0.8,\"line_width\":1.5}},\"nonselection_glyph\":{\"type\":\"object\",\"name\":\"Line\",\"id\":\"p3506\",\"attributes\":{\"x\":{\"type\":\"field\",\"field\":\"wav\"},\"y\":{\"type\":\"field\",\"field\":\"flux\"},\"line_color\":\"#ff7f0e\",\"line_alpha\":0.1,\"line_width\":1.5}},\"muted_glyph\":{\"type\":\"object\",\"name\":\"Line\",\"id\":\"p3507\",\"attributes\":{\"x\":{\"type\":\"field\",\"field\":\"wav\"},\"y\":{\"type\":\"field\",\"field\":\"flux\"},\"line_color\":\"#ff7f0e\",\"line_alpha\":0.1,\"line_width\":1.5}}}},{\"type\":\"object\",\"name\":\"GlyphRenderer\",\"id\":\"p3518\",\"attributes\":{\"data_source\":{\"type\":\"object\",\"name\":\"ColumnDataSource\",\"id\":\"p3445\",\"attributes\":{\"selected\":{\"type\":\"object\",\"name\":\"Selection\",\"id\":\"p3446\",\"attributes\":{\"indices\":[],\"line_indices\":[]}},\"selection_policy\":{\"type\":\"object\",\"name\":\"UnionRenderers\",\"id\":\"p3447\"},\"data\":{\"type\":\"map\",\"entries\":[[\"wav\",{\"type\":\"ndarray\",\"array\":{\"type\":\"bytes\",\"data\":\"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\"},\"shape\":[1000],\"dtype\":\"float64\",\"order\":\"little\"}],[\"flux\",{\"type\":\"ndarray\",\"array\":{\"type\":\"bytes\",\"data\":\"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\"},\"shape\":[1000],\"dtype\":\"float64\",\"order\":\"little\"}]]}}},\"view\":{\"type\":\"object\",\"name\":\"CDSView\",\"id\":\"p3519\",\"attributes\":{\"filter\":{\"type\":\"object\",\"name\":\"AllIndices\",\"id\":\"p3520\"}}},\"glyph\":{\"type\":\"object\",\"name\":\"Line\",\"id\":\"p3515\",\"attributes\":{\"x\":{\"type\":\"field\",\"field\":\"wav\"},\"y\":{\"type\":\"field\",\"field\":\"flux\"},\"line_color\":\"#2ca02c\",\"line_alpha\":0.8,\"line_width\":1.5}},\"nonselection_glyph\":{\"type\":\"object\",\"name\":\"Line\",\"id\":\"p3516\",\"attributes\":{\"x\":{\"type\":\"field\",\"field\":\"wav\"},\"y\":{\"type\":\"field\",\"field\":\"flux\"},\"line_color\":\"#2ca02c\",\"line_alpha\":0.1,\"line_width\":1.5}},\"muted_glyph\":{\"type\":\"object\",\"name\":\"Line\",\"id\":\"p3517\",\"attributes\":{\"x\":{\"type\":\"field\",\"field\":\"wav\"},\"y\":{\"type\":\"field\",\"field\":\"flux\"},\"line_color\":\"#2ca02c\",\"line_alpha\":0.1,\"line_width\":1.5}}}}],\"toolbar\":{\"type\":\"object\",\"name\":\"Toolbar\",\"id\":\"p3456\",\"attributes\":{\"tools\":[{\"type\":\"object\",\"name\":\"PanTool\",\"id\":\"p3480\"},{\"type\":\"object\",\"name\":\"WheelZoomTool\",\"id\":\"p3481\"},{\"type\":\"object\",\"name\":\"BoxZoomTool\",\"id\":\"p3482\",\"attributes\":{\"overlay\":{\"type\":\"object\",\"name\":\"BoxAnnotation\",\"id\":\"p3483\",\"attributes\":{\"syncable\":false,\"level\":\"overlay\",\"visible\":false,\"left_units\":\"canvas\",\"right_units\":\"canvas\",\"bottom_units\":\"canvas\",\"top_units\":\"canvas\",\"line_color\":\"black\",\"line_alpha\":1.0,\"line_width\":2,\"line_dash\":[4,4],\"fill_color\":\"lightgrey\",\"fill_alpha\":0.5}}}},{\"type\":\"object\",\"name\":\"ResetTool\",\"id\":\"p3484\"}]}},\"left\":[{\"type\":\"object\",\"name\":\"LinearAxis\",\"id\":\"p3473\",\"attributes\":{\"ticker\":{\"type\":\"object\",\"name\":\"BasicTicker\",\"id\":\"p3476\",\"attributes\":{\"mantissas\":[1,2,5]}},\"formatter\":{\"type\":\"object\",\"name\":\"BasicTickFormatter\",\"id\":\"p3475\"},\"axis_label\":\"Flux (normalized)\",\"major_label_policy\":{\"type\":\"object\",\"name\":\"AllLabels\",\"id\":\"p3474\"}}}],\"below\":[{\"type\":\"object\",\"name\":\"LinearAxis\",\"id\":\"p3466\",\"attributes\":{\"ticker\":{\"type\":\"object\",\"name\":\"BasicTicker\",\"id\":\"p3469\",\"attributes\":{\"mantissas\":[1,2,5]}},\"formatter\":{\"type\":\"object\",\"name\":\"BasicTickFormatter\",\"id\":\"p3468\"},\"axis_label\":\"Wavelength (\\u00c5)\",\"major_label_policy\":{\"type\":\"object\",\"name\":\"AllLabels\",\"id\":\"p3467\"}}}],\"center\":[{\"type\":\"object\",\"name\":\"Grid\",\"id\":\"p3472\",\"attributes\":{\"axis\":{\"id\":\"p3466\"},\"grid_line_color\":\"lightgray\"}},{\"type\":\"object\",\"name\":\"Grid\",\"id\":\"p3479\",\"attributes\":{\"dimension\":1,\"axis\":{\"id\":\"p3473\"},\"grid_line_color\":\"lightgray\"}},{\"type\":\"object\",\"name\":\"Legend\",\"id\":\"p3500\",\"attributes\":{\"click_policy\":\"mute\",\"items\":[{\"type\":\"object\",\"name\":\"LegendItem\",\"id\":\"p3501\",\"attributes\":{\"label\":{\"type\":\"value\",\"value\":\"Galaxy A\"},\"renderers\":[{\"id\":\"p3497\"}]}},{\"type\":\"object\",\"name\":\"LegendItem\",\"id\":\"p3511\",\"attributes\":{\"label\":{\"type\":\"value\",\"value\":\"Galaxy B\"},\"renderers\":[{\"id\":\"p3508\"}]}},{\"type\":\"object\",\"name\":\"LegendItem\",\"id\":\"p3521\",\"attributes\":{\"label\":{\"type\":\"value\",\"value\":\"Quasar\"},\"renderers\":[{\"id\":\"p3518\"}]}}]}}]}}]}}],\"callbacks\":{\"type\":\"map\"}}};\n  const render_items = [{\"docid\":\"407608b9-23ca-47a1-a548-08ce0b59cf41\",\"roots\":{\"p3525\":\"f09b18b4-83b2-4e3a-aa6f-7c6cad533413\"},\"root_ids\":[\"p3525\"]}];\n  root.Bokeh.embed.embed_items_notebook(docs_json, render_items);\n  }\n  if (root.Bokeh !== undefined) {\n    embed_document(root);\n  } else {\n    let attempts = 0;\n    const timer = setInterval(function(root) {\n      if (root.Bokeh !== undefined) {\n        clearInterval(timer);\n        embed_document(root);\n      } else {\n        attempts++;\n        if (attempts > 100) {\n          clearInterval(timer);\n          console.log(\"Bokeh: ERROR: Unable to run BokehJS code because BokehJS library is missing\");\n        }\n      }\n    }, 10, root)\n  }\n})(window);",
      "application/vnd.bokehjs_exec.v0+json": ""
     },
     "metadata": {
      "application/vnd.bokehjs_exec.v0+json": {
       "id": "p3525"
      }
     },
     "output_type": "display_data"
    }
   ],
   "source": [
    "# Initialize Bokeh in notebook\n",
    "output_notebook()\n",
    "\n",
    "sources = {'Teff = {} K, log g = {} dex, [Fe/H] = {} dex'.format(col[0], col[1], col[2]): ColumnDataSource(data={'wav': wav_ref, 'flux': col[3]})\\\n",
    "            for i in range(len(interp_steps)) for _, col in interp_steps[i].iterrows()}\n",
    "\n",
    "# Create ColumnDataSources for each spectrum\n",
    "# sources = {name: ColumnDataSource(data={'wav': wav, 'flux': flux}) \n",
    "#            for name, flux in spectra.items()}\n",
    "\n",
    "# Create figure\n",
    "p = figure(width=1400, height=600, tools=\"pan,wheel_zoom,box_zoom,reset\",\n",
    "           title=\"Multi-Spectra Viewer\", x_axis_label='Wavelength (Å)', \n",
    "           y_axis_label='Flux (erg/cm²/s/Å)')\n",
    "\n",
    "# Plot all spectra initially (but we'll control visibility)\n",
    "renderers = {}\n",
    "colors = Category10[len(sources)]\n",
    "for i, (name, source) in enumerate(sources.items()):\n",
    "    renderers[name] = p.line('wav', 'flux', source=source, line_width=1.5,\n",
    "                            color=colors[i], alpha=0.8, legend_label=name,\n",
    "                            muted_color=colors[i], muted_alpha=0.1)\n",
    "\n",
    "# Configure visual elements\n",
    "p.x_range.start = 4000\n",
    "p.x_range.end = 6000\n",
    "p.xgrid.grid_line_color = 'lightgray'\n",
    "p.ygrid.grid_line_color = 'lightgray'\n",
    "p.legend.location = \"top_right\"\n",
    "p.legend.click_policy = \"mute\"  # Click on legend to mute/unmute\n",
    "\n",
    "# Add range slider for wavelength control\n",
    "range_slider = RangeSlider(start=3000, end=7000, value=(4000, 6000), step=100,\n",
    "                          title=\"Wavelength Range (Å)\", width=600)\n",
    "\n",
    "range_callback = CustomJS(args=dict(x_range=p.x_range), code=\"\"\"\n",
    "    x_range.start = cb_obj.value[0];\n",
    "    x_range.end = cb_obj.value[1];\n",
    "\"\"\")\n",
    "\n",
    "range_slider.js_on_change('value', range_callback)\n",
    "\n",
    "# Combine all elements\n",
    "controls = row(range_slider)\n",
    "layout = column(controls, p)\n",
    "\n",
    "show(layout)"
   ]
  },
  {
   "cell_type": "markdown",
   "metadata": {},
   "source": [
    "# Plot result"
   ]
  },
  {
   "cell_type": "code",
   "execution_count": 4,
   "metadata": {},
   "outputs": [
    {
     "ename": "NameError",
     "evalue": "name 'interp_steps' is not defined",
     "output_type": "error",
     "traceback": [
      "\u001b[0;31m---------------------------------------------------------------------------\u001b[0m",
      "\u001b[0;31mNameError\u001b[0m                                 Traceback (most recent call last)",
      "\u001b[0;32m<ipython-input-4-cffeed04ca93>\u001b[0m in \u001b[0;36m<module>\u001b[0;34m\u001b[0m\n\u001b[0;32m----> 1\u001b[0;31m \u001b[0msteps\u001b[0m \u001b[0;34m=\u001b[0m \u001b[0;34m[\u001b[0m\u001b[0minterp_steps\u001b[0m\u001b[0;34m,\u001b[0m \u001b[0minterp_steps2\u001b[0m\u001b[0;34m,\u001b[0m \u001b[0minterp_steps3\u001b[0m\u001b[0;34m]\u001b[0m\u001b[0;34m\u001b[0m\u001b[0;34m\u001b[0m\u001b[0m\n\u001b[0m\u001b[1;32m      2\u001b[0m \u001b[0;34m\u001b[0m\u001b[0m\n\u001b[1;32m      3\u001b[0m \u001b[0mfig\u001b[0m\u001b[0;34m,\u001b[0m \u001b[0max\u001b[0m \u001b[0;34m=\u001b[0m \u001b[0mplt\u001b[0m\u001b[0;34m.\u001b[0m\u001b[0msubplots\u001b[0m\u001b[0;34m(\u001b[0m\u001b[0mfigsize\u001b[0m\u001b[0;34m=\u001b[0m\u001b[0;34m(\u001b[0m\u001b[0;36m25\u001b[0m\u001b[0;34m,\u001b[0m\u001b[0;36m12\u001b[0m\u001b[0;34m)\u001b[0m\u001b[0;34m,\u001b[0m \u001b[0mfacecolor\u001b[0m\u001b[0;34m=\u001b[0m\u001b[0;34m'white'\u001b[0m\u001b[0;34m)\u001b[0m\u001b[0;34m\u001b[0m\u001b[0;34m\u001b[0m\u001b[0m\n\u001b[1;32m      4\u001b[0m \u001b[0;34m\u001b[0m\u001b[0m\n\u001b[1;32m      5\u001b[0m \u001b[0;32mfor\u001b[0m \u001b[0mstep\u001b[0m \u001b[0;32min\u001b[0m \u001b[0msteps\u001b[0m\u001b[0;34m:\u001b[0m\u001b[0;34m\u001b[0m\u001b[0;34m\u001b[0m\u001b[0m\n",
      "\u001b[0;31mNameError\u001b[0m: name 'interp_steps' is not defined"
     ]
    }
   ],
   "source": [
    "steps = [interp_steps, interp_steps2, interp_steps3]\n",
    "\n",
    "fig, ax = plt.subplots(figsize=(25,12), facecolor='white')\n",
    "\n",
    "for step in steps:\n",
    "\n",
    "    for df in step:\n",
    "\n",
    "        if len(step) == 1:\n",
    "            lw=2\n",
    "        else:\n",
    "            lw=1\n",
    "\n",
    "        ax.plot(wav_ref/1e4,df['flux']/1e4, lw=lw, label = '$T_{ef}$ = '+str(int(df['teff']))+' K, log g = '+\n",
    "                     str(df['logg'])+', [Fe/H] = '+str(df['feh']))\n",
    "\n",
    "for i in range(0, len(test), 2):\n",
    "    row = test.iloc[i, :].to_dict()\n",
    "    row2 = test.iloc[i + 1, :].to_dict() if i + 1 < len(test) else None  # Second row (if exists)\n",
    "        \n",
    "    if row2 is None:\n",
    "        pass\n",
    "\n",
    "    flux = load_and_interpolate_spectrum(row)\n",
    "    try:\n",
    "        flux2 = load_and_interpolate_spectrum(row2)\n",
    "\n",
    "    except:\n",
    "        continue\n",
    "\n",
    "    ax.plot(wav_ref/1e4,flux/1e4, lw=1, label = '$T_{ef}$ = '+str(int(row['teff']))+' K, log g = '+\n",
    "                     str(row['logg'])+', [Fe/H] = '+str(row['feh']))\n",
    "    ax.plot(wav_ref/1e4,flux2/1e4, lw=1, label = '$T_{ef}$ = '+str(int(row2['teff']))+' K, log g = '+\n",
    "                     str(row2['logg'])+', [Fe/H] = '+str(row2['feh']))\n",
    "\n",
    "ax.legend(fontsize = 15, loc='upper center', bbox_to_anchor=(0.5, 1.0),\n",
    "               fancybox=False, ncol=4, frameon=False)\n",
    "    \n",
    "ax.set_xscale('log')\n",
    "\n",
    "ax.set_xlim(0.655, 0.66)\n",
    "ax.set_ylim(200, 550)\n",
    "ax.locator_params(axis='y', nbins=5)\n",
    "plt.tick_params(labelcolor='k', which='both', top=False,\n",
    "            bottom=True, left=False, right=True, labelsize='large')\n",
    "\n",
    "plt.xlabel(\"Wavelength (μm)\",fontsize = 'x-large')\n",
    "plt.ylabel(\"Flux (erg/cm^2/s/μm)\",fontsize = 'x-large')\n",
    "\n",
    "plt.tight_layout()\n",
    "plt.show()\n",
    "plt.close()"
   ]
  }
 ],
 "metadata": {
  "kernelspec": {
   "display_name": "jupyterenvironment",
   "language": "python",
   "name": "python3"
  },
  "language_info": {
   "codemirror_mode": {
    "name": "ipython",
    "version": 3
   },
   "file_extension": ".py",
   "mimetype": "text/x-python",
   "name": "python",
   "nbconvert_exporter": "python",
   "pygments_lexer": "ipython3",
   "version": "3.8.10"
  }
 },
 "nbformat": 4,
 "nbformat_minor": 2
}
