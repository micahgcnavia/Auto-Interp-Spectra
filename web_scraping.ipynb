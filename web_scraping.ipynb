{
 "cells": [
  {
   "cell_type": "markdown",
   "metadata": {},
   "source": [
    "# Selenium"
   ]
  },
  {
   "cell_type": "code",
   "execution_count": 1,
   "metadata": {},
   "outputs": [],
   "source": [
    "import pandas as pd\n",
    "\n",
    "from selenium import webdriver\n",
    "from selenium.webdriver.chrome.service import Service\n",
    "from selenium.webdriver.common.by import By"
   ]
  },
  {
   "cell_type": "code",
   "execution_count": 2,
   "metadata": {},
   "outputs": [],
   "source": [
    "service = Service()\n",
    "\n",
    "options = webdriver.ChromeOptions()\n",
    "\n",
    "driver = webdriver.Chrome(service=service, options=options)"
   ]
  },
  {
   "cell_type": "code",
   "execution_count": 3,
   "metadata": {},
   "outputs": [],
   "source": [
    "url = 'https://svo2.cab.inta-csic.es/theory/newov2/index.php?models=bt-settl'\n",
    "\n",
    "driver.get(url)"
   ]
  },
  {
   "cell_type": "code",
   "execution_count": 26,
   "metadata": {},
   "outputs": [
    {
     "data": {
      "text/plain": [
       "'AMES-Cond 2000'"
      ]
     },
     "execution_count": 26,
     "metadata": {},
     "output_type": "execute_result"
    }
   ],
   "source": [
    "driver.find_elements(By.CLASS_NAME, 'mdls2_modtit')[0].text"
   ]
  },
  {
   "cell_type": "markdown",
   "metadata": {},
   "source": [
    "# Beautiful Soup"
   ]
  },
  {
   "cell_type": "code",
   "execution_count": 1,
   "metadata": {},
   "outputs": [],
   "source": [
    "import requests\n",
    "from bs4 import BeautifulSoup\n",
    "import time\n",
    "import re\n",
    "import urllib3\n",
    "urllib3.disable_warnings(urllib3.exceptions.InsecureRequestWarning)"
   ]
  },
  {
   "cell_type": "code",
   "execution_count": 2,
   "metadata": {},
   "outputs": [],
   "source": [
    "def get_soup(url, verify=False):\n",
    "\n",
    "    site = requests.get(url, verify=verify)\n",
    "    \n",
    "    return BeautifulSoup(site.content, 'html.parser')"
   ]
  },
  {
   "cell_type": "code",
   "execution_count": 3,
   "metadata": {},
   "outputs": [],
   "source": [
    "url = \"https://svo2.cab.inta-csic.es/theory/newov2/\"\n",
    "soup = get_soup(url)"
   ]
  },
  {
   "cell_type": "code",
   "execution_count": 4,
   "metadata": {},
   "outputs": [],
   "source": [
    "def get_model_url(soup, model='BT-Settl'):\n",
    "\n",
    "    model_entries = soup.find_all('td', class_='mdls2_modtit')\n",
    "\n",
    "    # Search for the model\n",
    "    model_href = None\n",
    "    for entry in model_entries:\n",
    "        b_tag = entry.find('b')\n",
    "        if b_tag and model in b_tag.text:\n",
    "            a_tag = b_tag.find('a')\n",
    "            if a_tag and 'href' in a_tag.attrs:\n",
    "                model_href = a_tag['href']\n",
    "                break\n",
    "    \n",
    "    # Print the result\n",
    "    if model_href:\n",
    "        \n",
    "        # Construct full URL if needed (if the href is relative)\n",
    "        if not model_href.startswith('http'):\n",
    "            full_url = url + model_href.split(\"newov2/\")[1]\n",
    "            return full_url\n",
    "    else:\n",
    "        print(f\"{model} model not found in the page.\")\n",
    "        return"
   ]
  },
  {
   "cell_type": "code",
   "execution_count": 5,
   "metadata": {},
   "outputs": [
    {
     "data": {
      "text/plain": [
       "'https://svo2.cab.inta-csic.es/theory/newov2/index.php?models=bt-settl'"
      ]
     },
     "execution_count": 5,
     "metadata": {},
     "output_type": "execute_result"
    }
   ],
   "source": [
    "new_url = get_model_url(soup)\n",
    "new_url"
   ]
  },
  {
   "cell_type": "code",
   "execution_count": 6,
   "metadata": {},
   "outputs": [],
   "source": [
    "model_soup = get_soup(new_url)"
   ]
  },
  {
   "cell_type": "code",
   "execution_count": 7,
   "metadata": {},
   "outputs": [],
   "source": [
    "def submit_params(url, model='BT-Settl', teff_min=5000, teff_max=5100, logg_min=4, logg_max=4.5, meta_min=0, meta_max=0.5):\n",
    "\n",
    "    model = model.lower()\n",
    "\n",
    "    # Prepare the form data with your desired parameters\n",
    "    form_data = {\n",
    "        'models': ','+model,\n",
    "        'oby': '',\n",
    "        'odesc': '',\n",
    "        'sbut': '',\n",
    "        # Set Teff min and max\n",
    "        f'params[{model}][teff][min]': str(teff_min),\n",
    "        f'params[{model}][teff][max]': str(teff_max),\n",
    "        # Set logg min and max\n",
    "        f'params[{model}][logg][min]': str(logg_min),\n",
    "        f'params[{model}][logg][max]': str(logg_max),\n",
    "        # Set metallicity min and max\n",
    "        f'params[{model}][meta][min]': str(meta_min),\n",
    "        f'params[{model}][meta][max]': str(meta_max),\n",
    "        # Show all results\n",
    "        'nres': 'all',\n",
    "        # Submit button\n",
    "        'boton': 'Search',\n",
    "        # Selected model\n",
    "        'reqmodels[]': model\n",
    "    }\n",
    "    \n",
    "    # Now follow the redirect if needed to get the actual content\n",
    "    response = requests.post(url, data=form_data, allow_redirects=True, verify=False)\n",
    "\n",
    "    if response.status_code == 200:\n",
    "\n",
    "        print('Form submitted successfully!')\n",
    "        return BeautifulSoup(response.text, 'html.parser')\n",
    "\n",
    "    else:\n",
    "        return"
   ]
  },
  {
   "cell_type": "code",
   "execution_count": 8,
   "metadata": {},
   "outputs": [
    {
     "name": "stdout",
     "output_type": "stream",
     "text": [
      "Form submitted successfully!\n"
     ]
    }
   ],
   "source": [
    "# Example usage\n",
    "form_soup = submit_params(\n",
    "    url = new_url,\n",
    "    teff_min=5000, \n",
    "    teff_max=5100, \n",
    "    logg_min=4, \n",
    "    logg_max=4.5, \n",
    "    meta_min=0, \n",
    "    meta_max=0.5\n",
    ")"
   ]
  },
  {
   "cell_type": "code",
   "execution_count": 9,
   "metadata": {},
   "outputs": [],
   "source": [
    "def make_request(url, method='get', data=None):\n",
    "    \"\"\"Make a request with error handling\"\"\"\n",
    "    try:\n",
    "        if method.lower() == 'post':\n",
    "            response = requests.post(url, data=data, verify=False, allow_redirects=True)\n",
    "        else:\n",
    "            response = requests.get(url, verify=False, allow_redirects=True)\n",
    "        response.raise_for_status()\n",
    "        return response\n",
    "    except requests.exceptions.RequestException as e:\n",
    "        print(f\"Request failed: {e}\")\n",
    "        return None"
   ]
  },
  {
   "cell_type": "code",
   "execution_count": 13,
   "metadata": {},
   "outputs": [
    {
     "name": "stdout",
     "output_type": "stream",
     "text": [
      "Submitting retrieval request for 12 models...\n",
      "Download URL found: https://svo2.cab.inta-csic.es//theory/newov2/temp/models/tar/models_1745273472.tgz\n",
      "\n",
      "Selected models summary:\n",
      "Model: BT-Settl, Teff: 5000, Logg: 4, Metallicity: 0, Alpha: 0\n",
      "Model: BT-Settl, Teff: 5000, Logg: 4.5, Metallicity: 0.5, Alpha: 0\n",
      "Model: BT-Settl, Teff: 5000, Logg: 4.5, Metallicity: 0.3, Alpha: 0\n",
      "Model: BT-Settl, Teff: 5000, Logg: 4.5, Metallicity: 0, Alpha: 0\n",
      "Model: BT-Settl, Teff: 5000, Logg: 4, Metallicity: 0.5, Alpha: 0\n",
      "Model: BT-Settl, Teff: 5000, Logg: 4, Metallicity: 0.3, Alpha: 0\n",
      "Model: BT-Settl, Teff: 5100, Logg: 4.5, Metallicity: 0.3, Alpha: 0\n",
      "Model: BT-Settl, Teff: 5100, Logg: 4.5, Metallicity: 0, Alpha: 0\n",
      "Model: BT-Settl, Teff: 5100, Logg: 4, Metallicity: 0.5, Alpha: 0\n",
      "Model: BT-Settl, Teff: 5100, Logg: 4, Metallicity: 0.3, Alpha: 0\n",
      "Model: BT-Settl, Teff: 5100, Logg: 4, Metallicity: 0, Alpha: 0\n",
      "Model: BT-Settl, Teff: 5100, Logg: 4.5, Metallicity: 0.5, Alpha: 0\n"
     ]
    }
   ],
   "source": [
    "selected_models = []\n",
    "rows = form_soup.select('table table tr')[1:]  # Skip header row\n",
    "\n",
    "for i, row in enumerate(rows):\n",
    "    cells = row.find_all('td')\n",
    "    if len(cells) < 10:  # Skip non-data rows\n",
    "        continue\n",
    "    \n",
    "    model = cells[0].get_text(strip=True)\n",
    "    alpha = cells[4].get_text(strip=True)\n",
    "    \n",
    "    if model == \"BT-Settl\" and alpha == \"0\":\n",
    "        ascii_link = cells[7].find('a')\n",
    "        if ascii_link and 'href' in ascii_link.attrs:\n",
    "            selected_models.append({\n",
    "                'index': i,\n",
    "                'model': model,\n",
    "                'teff': cells[1].get_text(strip=True),\n",
    "                'logg': cells[2].get_text(strip=True),\n",
    "                'meta': cells[3].get_text(strip=True),\n",
    "                'alpha': alpha,\n",
    "                'ascii_link': url + ascii_link['href']\n",
    "            })\n",
    "\n",
    "if not selected_models:\n",
    "    print(\"No matching models found with Alpha=0\")\n",
    "    exit()\n",
    "\n",
    "original_form = form_soup.find('form', {'name': 'myform'})\n",
    "form_action = url + original_form['action'].split(\"newov2/\")[1]\n",
    "original_data = {}\n",
    "\n",
    "# Get hidden inputs and select values\n",
    "for input_tag in original_form.find_all(['input', 'select']):\n",
    "    if input_tag.name == 'input' and input_tag.get('type') == 'hidden':\n",
    "        original_data[input_tag['name']] = input_tag.get('value', '')\n",
    "    elif input_tag.name == 'select':\n",
    "        selected_option = input_tag.find('option', selected=True)\n",
    "        if selected_option:\n",
    "            original_data[input_tag['name']] = selected_option.get('value', '')\n",
    "\n",
    "# Step 2: Prepare data for retrieval (include original form data)\n",
    "retrieve_data = original_data.copy()  # Keep all original selections\n",
    "\n",
    "# Mark ASCII checkboxes for selected models\n",
    "for model in selected_models:\n",
    "    retrieve_data[f'txt[{model[\"index\"]}]'] = 'on'\n",
    "\n",
    "retrieve_data['boton'] = 'Retrieve'\n",
    "\n",
    "# Step 7: Submit the retrieval request\n",
    "print(f\"Submitting retrieval request for {len(selected_models)} models...\")\n",
    "response = make_request(form_action, 'post', retrieve_data)\n",
    "if not response:\n",
    "    exit()\n",
    "\n",
    "# # Step 8: Wait for server to prepare the download\n",
    "\n",
    "# processing_delay = len(selected_models) * 3 # 3 seconds per model\n",
    "\n",
    "# print(f\"Waiting {processing_delay} seconds for server to prepare download...\")\n",
    "# time.sleep(processing_delay)\n",
    "\n",
    "# # Step 9: Check for download link (you might need to reload the page)\n",
    "# print(\"Checking for download link...\")\n",
    "# response = make_request(form_action)\n",
    "# if not response:\n",
    "#     exit()\n",
    "\n",
    "soup = BeautifulSoup(response.text, 'html.parser')\n",
    "download_link = soup.find('a', string=lambda t: t and 'Download tar file' in t)\n",
    "\n",
    "if download_link and 'href' in download_link.attrs:\n",
    "    download_url = download_link['href']\n",
    "    print(f\"Download URL found: {download_url}\")\n",
    "    \n",
    "    # # Step 10: Download the file\n",
    "    # print(\"Starting download...\")\n",
    "    # download_response = make_request(download_url)\n",
    "    # if download_response:\n",
    "    #     filename = f\"bt_settl_models_{int(time.time())}.tar\"\n",
    "    #     with open(filename, 'wb') as f:\n",
    "    #         f.write(download_response.content)\n",
    "    #     print(f\"Download completed! Saved as {filename}\")\n",
    "    # else:\n",
    "    #     print(\"Failed to download file\")\n",
    "else:\n",
    "    print(\"No download link found. Possible reasons:\")\n",
    "    print(\"- The server needs more time to prepare the files\")\n",
    "    print(\"- There might be an error in the request\")\n",
    "    print(\"- The page structure might have changed\")\n",
    "\n",
    "# Print selected models for verification\n",
    "print(\"\\nSelected models summary:\")\n",
    "for model in selected_models:\n",
    "    print(f\"Model: {model['model']}, Teff: {model['teff']}, Logg: {model['logg']}, \"\n",
    "          f\"Metallicity: {model['meta']}, Alpha: {model['alpha']}\")"
   ]
  }
 ],
 "metadata": {
  "kernelspec": {
   "display_name": "jupyterenvironment",
   "language": "python",
   "name": "python3"
  },
  "language_info": {
   "codemirror_mode": {
    "name": "ipython",
    "version": 3
   },
   "file_extension": ".py",
   "mimetype": "text/x-python",
   "name": "python",
   "nbconvert_exporter": "python",
   "pygments_lexer": "ipython3",
   "version": "3.8.10"
  }
 },
 "nbformat": 4,
 "nbformat_minor": 2
}
