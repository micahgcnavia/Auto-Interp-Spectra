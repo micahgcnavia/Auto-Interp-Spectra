{
 "cells": [
  {
   "cell_type": "code",
   "execution_count": 1,
   "metadata": {},
   "outputs": [],
   "source": [
    "import requests\n",
    "from bs4 import BeautifulSoup\n",
    "import time\n",
    "import re\n",
    "import urllib3\n",
    "urllib3.disable_warnings(urllib3.exceptions.InsecureRequestWarning)"
   ]
  },
  {
   "cell_type": "code",
   "execution_count": 2,
   "metadata": {},
   "outputs": [],
   "source": [
    "def get_soup(url, verify=False):\n",
    "\n",
    "    site = requests.get(url, verify=verify)\n",
    "    \n",
    "    return BeautifulSoup(site.content, 'html.parser')"
   ]
  },
  {
   "cell_type": "code",
   "execution_count": 3,
   "metadata": {},
   "outputs": [],
   "source": [
    "url = \"https://svo2.cab.inta-csic.es/theory/newov2/\"\n",
    "soup = get_soup(url)"
   ]
  },
  {
   "cell_type": "code",
   "execution_count": 4,
   "metadata": {},
   "outputs": [],
   "source": [
    "def get_model_url(soup, model='BT-Settl'):\n",
    "\n",
    "    model_entries = soup.find_all('td', class_='mdls2_modtit')\n",
    "\n",
    "    # Search for the model\n",
    "    model_href = None\n",
    "    for entry in model_entries:\n",
    "        b_tag = entry.find('b')\n",
    "        if b_tag and model in b_tag.text:\n",
    "            a_tag = b_tag.find('a')\n",
    "            if a_tag and 'href' in a_tag.attrs:\n",
    "                model_href = a_tag['href']\n",
    "                break\n",
    "    \n",
    "    # Print the result\n",
    "    if model_href:\n",
    "        \n",
    "        # Construct full URL if needed (if the href is relative)\n",
    "        if not model_href.startswith('http'):\n",
    "            full_url = url + model_href.split(\"newov2/\")[1]\n",
    "            return full_url\n",
    "    else:\n",
    "        print(f\"{model} model not found in the page.\")\n",
    "        return"
   ]
  },
  {
   "cell_type": "code",
   "execution_count": 5,
   "metadata": {},
   "outputs": [
    {
     "data": {
      "text/plain": [
       "'https://svo2.cab.inta-csic.es/theory/newov2/index.php?models=bt-settl'"
      ]
     },
     "execution_count": 5,
     "metadata": {},
     "output_type": "execute_result"
    }
   ],
   "source": [
    "new_url = get_model_url(soup)\n",
    "new_url"
   ]
  },
  {
   "cell_type": "code",
   "execution_count": 6,
   "metadata": {},
   "outputs": [],
   "source": [
    "model_soup = get_soup(new_url)"
   ]
  },
  {
   "cell_type": "code",
   "execution_count": 10,
   "metadata": {},
   "outputs": [
    {
     "name": "stdout",
     "output_type": "stream",
     "text": [
      "Form submitted successfully!\n"
     ]
    }
   ],
   "source": [
    "def submit_params(url, model='BT-Settl', teff_min=5000, teff_max=5100, logg_min=4, logg_max=4.5, meta_min=0, meta_max=0.5):\n",
    "\n",
    "    model = model.lower()\n",
    "\n",
    "    # Prepare the form data with your desired parameters\n",
    "    form_data = {\n",
    "        'models': ','+model,\n",
    "        'oby': '',\n",
    "        'odesc': '',\n",
    "        'sbut': '',\n",
    "        # Set Teff min and max\n",
    "        f'params[{model}][teff][min]': str(teff_min),\n",
    "        f'params[{model}][teff][max]': str(teff_max),\n",
    "        # Set logg min and max\n",
    "        f'params[{model}][logg][min]': str(logg_min),\n",
    "        f'params[{model}][logg][max]': str(logg_max),\n",
    "        # Set metallicity min and max\n",
    "        f'params[{model}][meta][min]': str(meta_min),\n",
    "        f'params[{model}][meta][max]': str(meta_max),\n",
    "        # Show all results\n",
    "        'nres': 'all',\n",
    "        # Submit button\n",
    "        'boton': 'Search',\n",
    "        # Selected model\n",
    "        'reqmodels[]': model\n",
    "    }\n",
    "\n",
    "    # Submit the form without following redirects to see if there's a redirect\n",
    "    response = requests.post(url, data=form_data, allow_redirects=False, verify=False)\n",
    "    \n",
    "    # If there's a redirect (status code 302), get the new location\n",
    "    if response.status_code == 302:\n",
    "        final_url = response.headers['Location']\n",
    "        # Make sure the URL is absolute\n",
    "        if not final_url.startswith('http'):\n",
    "            final_url = f\"https://svo.cab.inta-csic.es{final_url}\"\n",
    "    else:\n",
    "        # If no redirect, the final URL is the original URL with possible query params\n",
    "        final_url = response.url\n",
    "    \n",
    "    # Now follow the redirect if needed to get the actual content\n",
    "    response = requests.post(url, data=form_data, allow_redirects=True, verify=False)\n",
    "\n",
    "    if response.status_code == 200:\n",
    "\n",
    "        print('Form submitted successfully!')\n",
    "        return BeautifulSoup(response.text, 'html.parser')\n",
    "\n",
    "    else:\n",
    "        return\n",
    "\n",
    "# Example usage\n",
    "form_soup = submit_params(\n",
    "    url = new_url,\n",
    "    teff_min=5000, \n",
    "    teff_max=5100, \n",
    "    logg_min=4, \n",
    "    logg_max=4.5, \n",
    "    meta_min=0, \n",
    "    meta_max=0.5\n",
    ")"
   ]
  }
 ],
 "metadata": {
  "kernelspec": {
   "display_name": "jupyterenvironment",
   "language": "python",
   "name": "python3"
  },
  "language_info": {
   "codemirror_mode": {
    "name": "ipython",
    "version": 3
   },
   "file_extension": ".py",
   "mimetype": "text/x-python",
   "name": "python",
   "nbconvert_exporter": "python",
   "pygments_lexer": "ipython3",
   "version": "3.8.10"
  }
 },
 "nbformat": 4,
 "nbformat_minor": 2
}
