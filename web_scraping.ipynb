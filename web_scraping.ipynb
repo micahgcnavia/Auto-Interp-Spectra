{
 "cells": [
  {
   "cell_type": "code",
   "execution_count": 50,
   "metadata": {},
   "outputs": [],
   "source": [
    "from lib.scraping import *\n",
    "from lib.get_config import *\n",
    "import matplotlib.pyplot as plt"
   ]
  },
  {
   "cell_type": "code",
   "execution_count": 52,
   "metadata": {},
   "outputs": [
    {
     "name": "stdout",
     "output_type": "stream",
     "text": [
      "=========================== Initializing Scraper ===========================\n",
      "\n"
     ]
    }
   ],
   "source": [
    "scraper = Scraper(\n",
    "        teff_min = 5100,\n",
    "        teff_max = 5200,\n",
    "        logg_min = 4,\n",
    "        logg_max = 4.5,\n",
    "        feh_min = 0,\n",
    "        feh_max = 0.5\n",
    "    )"
   ]
  },
  {
   "cell_type": "code",
   "execution_count": 53,
   "metadata": {},
   "outputs": [
    {
     "data": {
      "text/plain": [
       "array([  400.,   500.,   600.,   700.,   800.,   900.,  1000.,  1100.,\n",
       "        1200.,  1300.,  1400.,  1500.,  1600.,  1700.,  1800.,  1900.,\n",
       "        2000.,  2100.,  2200.,  2300.,  2400.,  2500.,  2600.,  2700.,\n",
       "        2800.,  2900.,  3000.,  3100.,  3200.,  3300.,  3400.,  3500.,\n",
       "        3600.,  3700.,  3800.,  3900.,  4000.,  4100.,  4200.,  4300.,\n",
       "        4400.,  4500.,  4600.,  4700.,  4800.,  4900.,  5000.,  5100.,\n",
       "        5200.,  5300.,  5400.,  5500.,  5600.,  5700.,  5800.,  5900.,\n",
       "        6000.,  6100.,  6200.,  6300.,  6400.,  6500.,  6600.,  6700.,\n",
       "        6800.,  6900.,  7000.,  7200.,  7400.,  7600.,  7800.,  8000.,\n",
       "        8200.,  8400.,  8600.,  8800.,  9000.,  9200.,  9400.,  9600.,\n",
       "        9800., 10000., 10200., 10400., 10600., 10800., 11000., 11200.,\n",
       "       11400., 11600., 11800., 12000., 12500., 13000., 13500., 14000.,\n",
       "       14500., 15000., 15500., 16000., 16500., 17000., 17500., 18000.,\n",
       "       18500., 19000., 19500., 20000., 21000., 22000., 23000., 24000.,\n",
       "       25000., 26000., 27000., 28000., 29000., 30000., 31000., 32000.,\n",
       "       33000., 34000., 35000., 36000., 37000., 38000., 39000., 40000.,\n",
       "       41000., 42000., 43000., 44000., 45000., 46000., 47000., 48000.,\n",
       "       49000., 50000., 51000., 52000., 53000., 54000., 55000., 56000.,\n",
       "       57000., 58000., 59000., 60000., 61000., 62000., 63000., 64000.,\n",
       "       65000., 66000., 67000., 68000., 69000., 70000.])"
      ]
     },
     "execution_count": 53,
     "metadata": {},
     "output_type": "execute_result"
    }
   ],
   "source": [
    "teff_range = scraper.get_param_range('teff')\n",
    "teff_range"
   ]
  },
  {
   "cell_type": "code",
   "execution_count": 54,
   "metadata": {},
   "outputs": [
    {
     "data": {
      "text/plain": [
       "array([-0.5,  0. ,  0.5,  1. ,  1.5,  2. ,  2.5,  3. ,  3.5,  4. ,  4.5,\n",
       "        5. ,  5.5,  6. ])"
      ]
     },
     "execution_count": 54,
     "metadata": {},
     "output_type": "execute_result"
    }
   ],
   "source": [
    "logg_range = scraper.get_param_range('logg')\n",
    "logg_range"
   ]
  },
  {
   "cell_type": "code",
   "execution_count": 55,
   "metadata": {},
   "outputs": [
    {
     "data": {
      "text/plain": [
       "array([-4. , -3.5, -3. , -2.5, -2. , -1.5, -1. , -0.5,  0. ,  0.3,  0.5])"
      ]
     },
     "execution_count": 55,
     "metadata": {},
     "output_type": "execute_result"
    }
   ],
   "source": [
    "feh_range = scraper.get_param_range('meta')\n",
    "feh_range"
   ]
  },
  {
   "cell_type": "code",
   "execution_count": 56,
   "metadata": {},
   "outputs": [],
   "source": [
    "def get_param_step(param_range):\n",
    "\n",
    "    return {i: abs(i-j) for i, j in zip(param_range, param_range[1:])}"
   ]
  },
  {
   "cell_type": "code",
   "execution_count": 57,
   "metadata": {},
   "outputs": [
    {
     "data": {
      "text/plain": [
       "{400.0: 100.0,\n",
       " 500.0: 100.0,\n",
       " 600.0: 100.0,\n",
       " 700.0: 100.0,\n",
       " 800.0: 100.0,\n",
       " 900.0: 100.0,\n",
       " 1000.0: 100.0,\n",
       " 1100.0: 100.0,\n",
       " 1200.0: 100.0,\n",
       " 1300.0: 100.0,\n",
       " 1400.0: 100.0,\n",
       " 1500.0: 100.0,\n",
       " 1600.0: 100.0,\n",
       " 1700.0: 100.0,\n",
       " 1800.0: 100.0,\n",
       " 1900.0: 100.0,\n",
       " 2000.0: 100.0,\n",
       " 2100.0: 100.0,\n",
       " 2200.0: 100.0,\n",
       " 2300.0: 100.0,\n",
       " 2400.0: 100.0,\n",
       " 2500.0: 100.0,\n",
       " 2600.0: 100.0,\n",
       " 2700.0: 100.0,\n",
       " 2800.0: 100.0,\n",
       " 2900.0: 100.0,\n",
       " 3000.0: 100.0,\n",
       " 3100.0: 100.0,\n",
       " 3200.0: 100.0,\n",
       " 3300.0: 100.0,\n",
       " 3400.0: 100.0,\n",
       " 3500.0: 100.0,\n",
       " 3600.0: 100.0,\n",
       " 3700.0: 100.0,\n",
       " 3800.0: 100.0,\n",
       " 3900.0: 100.0,\n",
       " 4000.0: 100.0,\n",
       " 4100.0: 100.0,\n",
       " 4200.0: 100.0,\n",
       " 4300.0: 100.0,\n",
       " 4400.0: 100.0,\n",
       " 4500.0: 100.0,\n",
       " 4600.0: 100.0,\n",
       " 4700.0: 100.0,\n",
       " 4800.0: 100.0,\n",
       " 4900.0: 100.0,\n",
       " 5000.0: 100.0,\n",
       " 5100.0: 100.0,\n",
       " 5200.0: 100.0,\n",
       " 5300.0: 100.0,\n",
       " 5400.0: 100.0,\n",
       " 5500.0: 100.0,\n",
       " 5600.0: 100.0,\n",
       " 5700.0: 100.0,\n",
       " 5800.0: 100.0,\n",
       " 5900.0: 100.0,\n",
       " 6000.0: 100.0,\n",
       " 6100.0: 100.0,\n",
       " 6200.0: 100.0,\n",
       " 6300.0: 100.0,\n",
       " 6400.0: 100.0,\n",
       " 6500.0: 100.0,\n",
       " 6600.0: 100.0,\n",
       " 6700.0: 100.0,\n",
       " 6800.0: 100.0,\n",
       " 6900.0: 100.0,\n",
       " 7000.0: 200.0,\n",
       " 7200.0: 200.0,\n",
       " 7400.0: 200.0,\n",
       " 7600.0: 200.0,\n",
       " 7800.0: 200.0,\n",
       " 8000.0: 200.0,\n",
       " 8200.0: 200.0,\n",
       " 8400.0: 200.0,\n",
       " 8600.0: 200.0,\n",
       " 8800.0: 200.0,\n",
       " 9000.0: 200.0,\n",
       " 9200.0: 200.0,\n",
       " 9400.0: 200.0,\n",
       " 9600.0: 200.0,\n",
       " 9800.0: 200.0,\n",
       " 10000.0: 200.0,\n",
       " 10200.0: 200.0,\n",
       " 10400.0: 200.0,\n",
       " 10600.0: 200.0,\n",
       " 10800.0: 200.0,\n",
       " 11000.0: 200.0,\n",
       " 11200.0: 200.0,\n",
       " 11400.0: 200.0,\n",
       " 11600.0: 200.0,\n",
       " 11800.0: 200.0,\n",
       " 12000.0: 500.0,\n",
       " 12500.0: 500.0,\n",
       " 13000.0: 500.0,\n",
       " 13500.0: 500.0,\n",
       " 14000.0: 500.0,\n",
       " 14500.0: 500.0,\n",
       " 15000.0: 500.0,\n",
       " 15500.0: 500.0,\n",
       " 16000.0: 500.0,\n",
       " 16500.0: 500.0,\n",
       " 17000.0: 500.0,\n",
       " 17500.0: 500.0,\n",
       " 18000.0: 500.0,\n",
       " 18500.0: 500.0,\n",
       " 19000.0: 500.0,\n",
       " 19500.0: 500.0,\n",
       " 20000.0: 1000.0,\n",
       " 21000.0: 1000.0,\n",
       " 22000.0: 1000.0,\n",
       " 23000.0: 1000.0,\n",
       " 24000.0: 1000.0,\n",
       " 25000.0: 1000.0,\n",
       " 26000.0: 1000.0,\n",
       " 27000.0: 1000.0,\n",
       " 28000.0: 1000.0,\n",
       " 29000.0: 1000.0,\n",
       " 30000.0: 1000.0,\n",
       " 31000.0: 1000.0,\n",
       " 32000.0: 1000.0,\n",
       " 33000.0: 1000.0,\n",
       " 34000.0: 1000.0,\n",
       " 35000.0: 1000.0,\n",
       " 36000.0: 1000.0,\n",
       " 37000.0: 1000.0,\n",
       " 38000.0: 1000.0,\n",
       " 39000.0: 1000.0,\n",
       " 40000.0: 1000.0,\n",
       " 41000.0: 1000.0,\n",
       " 42000.0: 1000.0,\n",
       " 43000.0: 1000.0,\n",
       " 44000.0: 1000.0,\n",
       " 45000.0: 1000.0,\n",
       " 46000.0: 1000.0,\n",
       " 47000.0: 1000.0,\n",
       " 48000.0: 1000.0,\n",
       " 49000.0: 1000.0,\n",
       " 50000.0: 1000.0,\n",
       " 51000.0: 1000.0,\n",
       " 52000.0: 1000.0,\n",
       " 53000.0: 1000.0,\n",
       " 54000.0: 1000.0,\n",
       " 55000.0: 1000.0,\n",
       " 56000.0: 1000.0,\n",
       " 57000.0: 1000.0,\n",
       " 58000.0: 1000.0,\n",
       " 59000.0: 1000.0,\n",
       " 60000.0: 1000.0,\n",
       " 61000.0: 1000.0,\n",
       " 62000.0: 1000.0,\n",
       " 63000.0: 1000.0,\n",
       " 64000.0: 1000.0,\n",
       " 65000.0: 1000.0,\n",
       " 66000.0: 1000.0,\n",
       " 67000.0: 1000.0,\n",
       " 68000.0: 1000.0,\n",
       " 69000.0: 1000.0}"
      ]
     },
     "execution_count": 57,
     "metadata": {},
     "output_type": "execute_result"
    }
   ],
   "source": [
    "teff_step = get_param_step(teff_range)\n",
    "teff_step"
   ]
  },
  {
   "cell_type": "code",
   "execution_count": 58,
   "metadata": {},
   "outputs": [
    {
     "data": {
      "text/plain": [
       "{-0.5: 0.5,\n",
       " 0.0: 0.5,\n",
       " 0.5: 0.5,\n",
       " 1.0: 0.5,\n",
       " 1.5: 0.5,\n",
       " 2.0: 0.5,\n",
       " 2.5: 0.5,\n",
       " 3.0: 0.5,\n",
       " 3.5: 0.5,\n",
       " 4.0: 0.5,\n",
       " 4.5: 0.5,\n",
       " 5.0: 0.5,\n",
       " 5.5: 0.5}"
      ]
     },
     "execution_count": 58,
     "metadata": {},
     "output_type": "execute_result"
    }
   ],
   "source": [
    "logg_step = get_param_step(logg_range)\n",
    "logg_step"
   ]
  },
  {
   "cell_type": "code",
   "execution_count": 59,
   "metadata": {},
   "outputs": [
    {
     "data": {
      "text/plain": [
       "{-4.0: 0.5,\n",
       " -3.5: 0.5,\n",
       " -3.0: 0.5,\n",
       " -2.5: 0.5,\n",
       " -2.0: 0.5,\n",
       " -1.5: 0.5,\n",
       " -1.0: 0.5,\n",
       " -0.5: 0.5,\n",
       " 0.0: 0.3,\n",
       " 0.3: 0.2}"
      ]
     },
     "execution_count": 59,
     "metadata": {},
     "output_type": "execute_result"
    }
   ],
   "source": [
    "feh_step = get_param_step(feh_range)\n",
    "feh_step"
   ]
  },
  {
   "cell_type": "code",
   "execution_count": 60,
   "metadata": {},
   "outputs": [],
   "source": [
    "def get_closest_value(value, array):\n",
    "\n",
    "    if value > max(array) or value < min(array):\n",
    "\n",
    "        print('Input value not in parameter range.')\n",
    "        return None\n",
    "\n",
    "    else:\n",
    "\n",
    "        idx = (np.abs(array - value)).argmin()\n",
    "        return array[idx]"
   ]
  },
  {
   "cell_type": "code",
   "execution_count": 61,
   "metadata": {},
   "outputs": [],
   "source": [
    "# Getting user data\n",
    "config = get_config()\n",
    "\n",
    "# Getting targets\n",
    "targets_path = config['USER_DATA']['targets_path']\n",
    "targets = pd.read_csv(targets_path)\n",
    "target = targets.loc[targets['star'] == 'CoRoT-1']"
   ]
  },
  {
   "cell_type": "code",
   "execution_count": 62,
   "metadata": {},
   "outputs": [
    {
     "data": {
      "text/plain": [
       "{'teff': 6000, 'logg': 4.25, 'meta': 0.1}"
      ]
     },
     "execution_count": 62,
     "metadata": {},
     "output_type": "execute_result"
    }
   ],
   "source": [
    "params = {\n",
    "            'teff': target['teff'].item(),\n",
    "            'logg': target['logg'].item(),\n",
    "            # 'feh': target['feh'].item()\n",
    "            'meta': 0.1\n",
    "        }\n",
    "params"
   ]
  },
  {
   "cell_type": "code",
   "execution_count": 63,
   "metadata": {},
   "outputs": [
    {
     "data": {
      "text/plain": [
       "['teff', 'logg', 'meta']"
      ]
     },
     "execution_count": 63,
     "metadata": {},
     "output_type": "execute_result"
    }
   ],
   "source": [
    "list(params.keys())"
   ]
  },
  {
   "cell_type": "code",
   "execution_count": 66,
   "metadata": {},
   "outputs": [],
   "source": [
    "def get_delta_params():\n",
    "\n",
    "    delta_params = {}\n",
    "\n",
    "    for param in list(params.keys()):\n",
    "\n",
    "        param_range = scraper.get_param_range(param)\n",
    "        param_step = get_param_step(param_range)\n",
    "\n",
    "        delta_params[param] = param_step.get(get_closest_value(params[param], param_range))\n",
    "\n",
    "    return delta_params\n"
   ]
  },
  {
   "cell_type": "code",
   "execution_count": 67,
   "metadata": {},
   "outputs": [
    {
     "data": {
      "text/plain": [
       "{'teff': 100.0, 'logg': 0.5, 'meta': 0.3}"
      ]
     },
     "execution_count": 67,
     "metadata": {},
     "output_type": "execute_result"
    }
   ],
   "source": [
    "get_delta_params()"
   ]
  },
  {
   "cell_type": "code",
   "execution_count": 20,
   "metadata": {},
   "outputs": [
    {
     "data": {
      "image/png": "[encoded data removed]",
      "text/plain": [
       "<Figure size 504x576 with 1 Axes>"
      ]
     },
     "metadata": {},
     "output_type": "display_data"
    }
   ],
   "source": [
    "fig, ax = plt.subplots(figsize=(7,8), facecolor='white')\n",
    "\n",
    "plt.plot(teff_range[:-1], teff_step, 'ko')\n",
    "\n",
    "plt.xscale('log')\n",
    "\n",
    "plt.xlabel('Effective temperature (K)', fontsize=15)\n",
    "plt.ylabel('Step (K)', fontsize=15)\n",
    "\n",
    "plt.show()"
   ]
  },
  {
   "cell_type": "markdown",
   "metadata": {},
   "source": [
    "# Selenium"
   ]
  },
  {
   "cell_type": "code",
   "execution_count": 51,
   "metadata": {},
   "outputs": [],
   "source": [
    "import pandas as pd\n",
    "import numpy as np\n",
    "import time\n",
    "import ast\n",
    "from selenium import webdriver\n",
    "from selenium.webdriver.chrome.service import Service\n",
    "from selenium.webdriver.common.by import By\n",
    "from selenium.webdriver.support.ui import Select"
   ]
  },
  {
   "cell_type": "code",
   "execution_count": 5,
   "metadata": {},
   "outputs": [],
   "source": [
    "intervals = {\n",
    "    'teff': {'min': 5100,'max': 5200},\n",
    "    'logg': {'min': 4, 'max': 4.5},\n",
    "    'meta': {'min': 0, 'max': 0.5}\n",
    "    }"
   ]
  },
  {
   "cell_type": "code",
   "execution_count": 22,
   "metadata": {},
   "outputs": [],
   "source": [
    "service = Service()\n",
    "\n",
    "options = webdriver.ChromeOptions()\n",
    "\n",
    "driver = webdriver.Chrome(service=service, options=options)\n",
    "\n",
    "model = 'bt-settl'\n",
    "url = f'https://svo2.cab.inta-csic.es/theory/newov2/index.php?models={model}'\n",
    "\n",
    "driver.get(url)"
   ]
  },
  {
   "cell_type": "code",
   "execution_count": 72,
   "metadata": {},
   "outputs": [],
   "source": [
    "def get_param_range(param, model='BT-Settl'):\n",
    "\n",
    "    model = model.strip().lower()\n",
    "\n",
    "    range_list = driver.find_element(By.NAME, f\"params[{model}][{param}][min]\").text.split('\\n')\n",
    "\n",
    "    return np.array([float(value) for value in range_list])"
   ]
  },
  {
   "cell_type": "code",
   "execution_count": 78,
   "metadata": {},
   "outputs": [
    {
     "data": {
      "text/plain": [
       "{'teff': 'Effective temperature (K)',\n",
       " 'logg': 'Surface gravity (dex)',\n",
       " 'meta': 'Metallicity (dex)'}"
      ]
     },
     "execution_count": 78,
     "metadata": {},
     "output_type": "execute_result"
    }
   ],
   "source": [
    "labels = {param: name for param, name in zip(list(intervals.keys()), ['Effective temperature (K)',\n",
    "                                                                      'Surface gravity (dex)',\n",
    "                                                                      'Metallicity (dex)'\n",
    "                                                                     ])}\n",
    "labels"
   ]
  },
  {
   "cell_type": "code",
   "execution_count": 79,
   "metadata": {},
   "outputs": [],
   "source": [
    "delay = 1\n",
    "\n",
    "for key, _ in intervals.items():\n",
    "\n",
    "    select_min = Select(driver.find_element(By.NAME, f'params[{model}][{key}][min]'))\n",
    "    select_max = Select(driver.find_element(By.NAME, f'params[{model}][{key}][max]'))\n",
    "\n",
    "    select_min.select_by_visible_text(str(intervals[key]['min']))\n",
    "    time.sleep(delay)\n",
    "\n",
    "    select_max.select_by_visible_text(str(intervals[key]['max']))\n",
    "    time.sleep(delay)\n",
    "\n",
    "\n",
    "qtd = driver.find_element(By.NAME, 'nres')\n",
    "select_qtd = Select(qtd)\n",
    "select_qtd.select_by_value('all')\n",
    "\n",
    "time.sleep(delay)\n",
    "\n",
    "driver.find_element(By.XPATH, '/html/body/div[5]/table/tbody/tr/td/div/form/table/tbody/tr[1]/td[1]/table/tbody/tr[5]/td/input').click()\n"
   ]
  },
  {
   "cell_type": "markdown",
   "metadata": {},
   "source": [
    "# Beautiful Soup"
   ]
  },
  {
   "cell_type": "code",
   "execution_count": 1,
   "metadata": {},
   "outputs": [],
   "source": [
    "import requests\n",
    "from bs4 import BeautifulSoup\n",
    "import time\n",
    "import re\n",
    "import urllib3\n",
    "urllib3.disable_warnings(urllib3.exceptions.InsecureRequestWarning)"
   ]
  },
  {
   "cell_type": "code",
   "execution_count": 2,
   "metadata": {},
   "outputs": [],
   "source": [
    "def get_soup(url, verify=False):\n",
    "\n",
    "    site = requests.get(url, verify=verify)\n",
    "    \n",
    "    return BeautifulSoup(site.content, 'html.parser')"
   ]
  },
  {
   "cell_type": "code",
   "execution_count": 3,
   "metadata": {},
   "outputs": [],
   "source": [
    "url = \"https://svo2.cab.inta-csic.es/theory/newov2/\"\n",
    "soup = get_soup(url)"
   ]
  },
  {
   "cell_type": "code",
   "execution_count": 4,
   "metadata": {},
   "outputs": [],
   "source": [
    "def get_model_url(soup, model='BT-Settl'):\n",
    "\n",
    "    model_entries = soup.find_all('td', class_='mdls2_modtit')\n",
    "\n",
    "    # Search for the model\n",
    "    model_href = None\n",
    "    for entry in model_entries:\n",
    "        b_tag = entry.find('b')\n",
    "        if b_tag and model in b_tag.text:\n",
    "            a_tag = b_tag.find('a')\n",
    "            if a_tag and 'href' in a_tag.attrs:\n",
    "                model_href = a_tag['href']\n",
    "                break\n",
    "    \n",
    "    # Print the result\n",
    "    if model_href:\n",
    "        \n",
    "        # Construct full URL if needed (if the href is relative)\n",
    "        if not model_href.startswith('http'):\n",
    "            full_url = url + model_href.split(\"newov2/\")[1]\n",
    "            return full_url\n",
    "    else:\n",
    "        print(f\"{model} model not found in the page.\")\n",
    "        return"
   ]
  },
  {
   "cell_type": "code",
   "execution_count": 5,
   "metadata": {},
   "outputs": [
    {
     "data": {
      "text/plain": [
       "'https://svo2.cab.inta-csic.es/theory/newov2/index.php?models=bt-settl'"
      ]
     },
     "execution_count": 5,
     "metadata": {},
     "output_type": "execute_result"
    }
   ],
   "source": [
    "new_url = get_model_url(soup)\n",
    "new_url"
   ]
  },
  {
   "cell_type": "code",
   "execution_count": 6,
   "metadata": {},
   "outputs": [],
   "source": [
    "model_soup = get_soup(new_url)"
   ]
  },
  {
   "cell_type": "code",
   "execution_count": 7,
   "metadata": {},
   "outputs": [],
   "source": [
    "def submit_params(url, model='BT-Settl', teff_min=5000, teff_max=5100, logg_min=4, logg_max=4.5, meta_min=0, meta_max=0.5):\n",
    "\n",
    "    model = model.lower()\n",
    "\n",
    "    # Prepare the form data with your desired parameters\n",
    "    form_data = {\n",
    "        'models': ','+model,\n",
    "        'oby': '',\n",
    "        'odesc': '',\n",
    "        'sbut': '',\n",
    "        # Set Teff min and max\n",
    "        f'params[{model}][teff][min]': str(teff_min),\n",
    "        f'params[{model}][teff][max]': str(teff_max),\n",
    "        # Set logg min and max\n",
    "        f'params[{model}][logg][min]': str(logg_min),\n",
    "        f'params[{model}][logg][max]': str(logg_max),\n",
    "        # Set metallicity min and max\n",
    "        f'params[{model}][meta][min]': str(meta_min),\n",
    "        f'params[{model}][meta][max]': str(meta_max),\n",
    "        # Show all results\n",
    "        'nres': 'all',\n",
    "        # Submit button\n",
    "        'boton': 'Search',\n",
    "        # Selected model\n",
    "        'reqmodels[]': model\n",
    "    }\n",
    "    \n",
    "    # Now follow the redirect if needed to get the actual content\n",
    "    response = requests.post(url, data=form_data, allow_redirects=True, verify=False)\n",
    "\n",
    "    if response.status_code == 200:\n",
    "\n",
    "        print('Form submitted successfully!')\n",
    "        return BeautifulSoup(response.text, 'html.parser')\n",
    "\n",
    "    else:\n",
    "        return"
   ]
  },
  {
   "cell_type": "code",
   "execution_count": 8,
   "metadata": {},
   "outputs": [
    {
     "name": "stdout",
     "output_type": "stream",
     "text": [
      "Form submitted successfully!\n"
     ]
    }
   ],
   "source": [
    "# Example usage\n",
    "form_soup = submit_params(\n",
    "    url = new_url,\n",
    "    teff_min=5000, \n",
    "    teff_max=5100, \n",
    "    logg_min=4, \n",
    "    logg_max=4.5, \n",
    "    meta_min=0, \n",
    "    meta_max=0.5\n",
    ")"
   ]
  },
  {
   "cell_type": "code",
   "execution_count": 9,
   "metadata": {},
   "outputs": [],
   "source": [
    "def make_request(url, method='get', data=None):\n",
    "    \"\"\"Make a request with error handling\"\"\"\n",
    "    try:\n",
    "        if method.lower() == 'post':\n",
    "            response = requests.post(url, data=data, verify=False, allow_redirects=True)\n",
    "        else:\n",
    "            response = requests.get(url, verify=False, allow_redirects=True)\n",
    "        response.raise_for_status()\n",
    "        return response\n",
    "    except requests.exceptions.RequestException as e:\n",
    "        print(f\"Request failed: {e}\")\n",
    "        return None"
   ]
  },
  {
   "cell_type": "code",
   "execution_count": 13,
   "metadata": {},
   "outputs": [
    {
     "name": "stdout",
     "output_type": "stream",
     "text": [
      "Submitting retrieval request for 12 models...\n",
      "Download URL found: https://svo2.cab.inta-csic.es//theory/newov2/temp/models/tar/models_1745273472.tgz\n",
      "\n",
      "Selected models summary:\n",
      "Model: BT-Settl, Teff: 5000, Logg: 4, Metallicity: 0, Alpha: 0\n",
      "Model: BT-Settl, Teff: 5000, Logg: 4.5, Metallicity: 0.5, Alpha: 0\n",
      "Model: BT-Settl, Teff: 5000, Logg: 4.5, Metallicity: 0.3, Alpha: 0\n",
      "Model: BT-Settl, Teff: 5000, Logg: 4.5, Metallicity: 0, Alpha: 0\n",
      "Model: BT-Settl, Teff: 5000, Logg: 4, Metallicity: 0.5, Alpha: 0\n",
      "Model: BT-Settl, Teff: 5000, Logg: 4, Metallicity: 0.3, Alpha: 0\n",
      "Model: BT-Settl, Teff: 5100, Logg: 4.5, Metallicity: 0.3, Alpha: 0\n",
      "Model: BT-Settl, Teff: 5100, Logg: 4.5, Metallicity: 0, Alpha: 0\n",
      "Model: BT-Settl, Teff: 5100, Logg: 4, Metallicity: 0.5, Alpha: 0\n",
      "Model: BT-Settl, Teff: 5100, Logg: 4, Metallicity: 0.3, Alpha: 0\n",
      "Model: BT-Settl, Teff: 5100, Logg: 4, Metallicity: 0, Alpha: 0\n",
      "Model: BT-Settl, Teff: 5100, Logg: 4.5, Metallicity: 0.5, Alpha: 0\n"
     ]
    }
   ],
   "source": [
    "selected_models = []\n",
    "rows = form_soup.select('table table tr')[1:]  # Skip header row\n",
    "\n",
    "for i, row in enumerate(rows):\n",
    "    cells = row.find_all('td')\n",
    "    if len(cells) < 10:  # Skip non-data rows\n",
    "        continue\n",
    "    \n",
    "    model = cells[0].get_text(strip=True)\n",
    "    alpha = cells[4].get_text(strip=True)\n",
    "    \n",
    "    if model == \"BT-Settl\" and alpha == \"0\":\n",
    "        ascii_link = cells[7].find('a')\n",
    "        if ascii_link and 'href' in ascii_link.attrs:\n",
    "            selected_models.append({\n",
    "                'index': i,\n",
    "                'model': model,\n",
    "                'teff': cells[1].get_text(strip=True),\n",
    "                'logg': cells[2].get_text(strip=True),\n",
    "                'meta': cells[3].get_text(strip=True),\n",
    "                'alpha': alpha,\n",
    "                'ascii_link': url + ascii_link['href']\n",
    "            })\n",
    "\n",
    "if not selected_models:\n",
    "    print(\"No matching models found with Alpha=0\")\n",
    "    exit()\n",
    "\n",
    "original_form = form_soup.find('form', {'name': 'myform'})\n",
    "form_action = url + original_form['action'].split(\"newov2/\")[1]\n",
    "original_data = {}\n",
    "\n",
    "# Get hidden inputs and select values\n",
    "for input_tag in original_form.find_all(['input', 'select']):\n",
    "    if input_tag.name == 'input' and input_tag.get('type') == 'hidden':\n",
    "        original_data[input_tag['name']] = input_tag.get('value', '')\n",
    "    elif input_tag.name == 'select':\n",
    "        selected_option = input_tag.find('option', selected=True)\n",
    "        if selected_option:\n",
    "            original_data[input_tag['name']] = selected_option.get('value', '')\n",
    "\n",
    "# Step 2: Prepare data for retrieval (include original form data)\n",
    "retrieve_data = original_data.copy()  # Keep all original selections\n",
    "\n",
    "# Mark ASCII checkboxes for selected models\n",
    "for model in selected_models:\n",
    "    retrieve_data[f'txt[{model[\"index\"]}]'] = 'on'\n",
    "\n",
    "retrieve_data['boton'] = 'Retrieve'\n",
    "\n",
    "# Step 7: Submit the retrieval request\n",
    "print(f\"Submitting retrieval request for {len(selected_models)} models...\")\n",
    "response = make_request(form_action, 'post', retrieve_data)\n",
    "if not response:\n",
    "    exit()\n",
    "\n",
    "# # Step 8: Wait for server to prepare the download\n",
    "\n",
    "# processing_delay = len(selected_models) * 3 # 3 seconds per model\n",
    "\n",
    "# print(f\"Waiting {processing_delay} seconds for server to prepare download...\")\n",
    "# time.sleep(processing_delay)\n",
    "\n",
    "# # Step 9: Check for download link (you might need to reload the page)\n",
    "# print(\"Checking for download link...\")\n",
    "# response = make_request(form_action)\n",
    "# if not response:\n",
    "#     exit()\n",
    "\n",
    "soup = BeautifulSoup(response.text, 'html.parser')\n",
    "download_link = soup.find('a', string=lambda t: t and 'Download tar file' in t)\n",
    "\n",
    "if download_link and 'href' in download_link.attrs:\n",
    "    download_url = download_link['href']\n",
    "    print(f\"Download URL found: {download_url}\")\n",
    "    \n",
    "    # # Step 10: Download the file\n",
    "    # print(\"Starting download...\")\n",
    "    # download_response = make_request(download_url)\n",
    "    # if download_response:\n",
    "    #     filename = f\"bt_settl_models_{int(time.time())}.tar\"\n",
    "    #     with open(filename, 'wb') as f:\n",
    "    #         f.write(download_response.content)\n",
    "    #     print(f\"Download completed! Saved as {filename}\")\n",
    "    # else:\n",
    "    #     print(\"Failed to download file\")\n",
    "else:\n",
    "    print(\"No download link found. Possible reasons:\")\n",
    "    print(\"- The server needs more time to prepare the files\")\n",
    "    print(\"- There might be an error in the request\")\n",
    "    print(\"- The page structure might have changed\")\n",
    "\n",
    "# Print selected models for verification\n",
    "print(\"\\nSelected models summary:\")\n",
    "for model in selected_models:\n",
    "    print(f\"Model: {model['model']}, Teff: {model['teff']}, Logg: {model['logg']}, \"\n",
    "          f\"Metallicity: {model['meta']}, Alpha: {model['alpha']}\")"
   ]
  }
 ],
 "metadata": {
  "kernelspec": {
   "display_name": "jupyterenvironment",
   "language": "python",
   "name": "python3"
  },
  "language_info": {
   "codemirror_mode": {
    "name": "ipython",
    "version": 3
   },
   "file_extension": ".py",
   "mimetype": "text/x-python",
   "name": "python",
   "nbconvert_exporter": "python",
   "pygments_lexer": "ipython3",
   "version": "3.8.10"
  }
 },
 "nbformat": 4,
 "nbformat_minor": 2
}
