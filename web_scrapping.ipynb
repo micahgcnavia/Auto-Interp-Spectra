{
 "cells": [
  {
   "cell_type": "code",
   "execution_count": 7,
   "metadata": {},
   "outputs": [],
   "source": [
    "import requests\n",
    "from bs4 import BeautifulSoup\n",
    "import time\n",
    "import re\n",
    "import urllib3\n",
    "urllib3.disable_warnings(urllib3.exceptions.InsecureRequestWarning)"
   ]
  },
  {
   "cell_type": "code",
   "execution_count": 36,
   "metadata": {},
   "outputs": [],
   "source": [
    "def get_soup(url, verify=False):\n",
    "\n",
    "    site = requests.get(url, verify=verify)\n",
    "    \n",
    "    return BeautifulSoup(site.content, 'html.parser')"
   ]
  },
  {
   "cell_type": "code",
   "execution_count": 37,
   "metadata": {},
   "outputs": [],
   "source": [
    "soup = get_soup(\"https://svo2.cab.inta-csic.es/theory/newov2/\")"
   ]
  },
  {
   "cell_type": "code",
   "execution_count": 46,
   "metadata": {},
   "outputs": [],
   "source": [
    "def get_model_url(soup, model='BT-Settl'):\n",
    "\n",
    "    model_entries = soup.find_all('td', class_='mdls2_modtit')\n",
    "\n",
    "    # Search for the model\n",
    "    model_href = None\n",
    "    for entry in model_entries:\n",
    "        b_tag = entry.find('b')\n",
    "        if b_tag and model in b_tag.text:\n",
    "            a_tag = b_tag.find('a')\n",
    "            if a_tag and 'href' in a_tag.attrs:\n",
    "                model_href = a_tag['href']\n",
    "                break\n",
    "    \n",
    "    # Print the result\n",
    "    if model_href:\n",
    "        \n",
    "        # Construct full URL if needed (if the href is relative)\n",
    "        if not model_href.startswith('http'):\n",
    "            full_url = url + model_href.split(\"newov2/\")[1]\n",
    "            return full_url\n",
    "    else:\n",
    "        print(f\"{model} model not found in the page.\")\n",
    "        return"
   ]
  },
  {
   "cell_type": "code",
   "execution_count": 47,
   "metadata": {},
   "outputs": [
    {
     "name": "stdout",
     "output_type": "stream",
     "text": [
      "Found BT-Settl model with href: /theory/newov2/index.php?models=bt-settl\n",
      "Full URL: https://svo2.cab.inta-csic.es/theory/newov2/index.php?models=bt-settl\n"
     ]
    },
    {
     "data": {
      "text/plain": [
       "'https://svo2.cab.inta-csic.es/theory/newov2/index.php?models=bt-settl'"
      ]
     },
     "execution_count": 47,
     "metadata": {},
     "output_type": "execute_result"
    }
   ],
   "source": [
    "new_url = get_model_url(soup)\n",
    "new_url"
   ]
  },
  {
   "cell_type": "code",
   "execution_count": null,
   "metadata": {},
   "outputs": [],
   "source": []
  }
 ],
 "metadata": {
  "kernelspec": {
   "display_name": "jupyterenvironment",
   "language": "python",
   "name": "python3"
  },
  "language_info": {
   "codemirror_mode": {
    "name": "ipython",
    "version": 3
   },
   "file_extension": ".py",
   "mimetype": "text/x-python",
   "name": "python",
   "nbconvert_exporter": "python",
   "pygments_lexer": "ipython3",
   "version": "3.8.10"
  }
 },
 "nbformat": 4,
 "nbformat_minor": 2
}
